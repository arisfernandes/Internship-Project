{
 "cells": [
  {
   "cell_type": "markdown",
   "id": "a15c9ac3",
   "metadata": {},
   "source": [
    "# Name: ARIS VENITIA FERNANDES"
   ]
  },
  {
   "cell_type": "markdown",
   "id": "daaa3add",
   "metadata": {},
   "source": [
    "## Sparks Foundation @GRIP February 2023"
   ]
  },
  {
   "cell_type": "markdown",
   "id": "e322b488",
   "metadata": {},
   "source": [
    "### Task 4 : Exploratory Data Analysis - Terrorism"
   ]
  },
  {
   "cell_type": "markdown",
   "id": "28ba4e73",
   "metadata": {
    "scrolled": true
   },
   "source": [
    "## Objective:\n",
    "• Perform 'Exploratory Data Analysis' on dataset Global Terrorism'\n",
    "\n",
    "• As a security/defense analyst, try to find out the hot zone of terrorism.\n",
    "\n",
    "• What all security issues and insights you can derive by EDA?"
   ]
  },
  {
   "cell_type": "markdown",
   "id": "92d41389",
   "metadata": {},
   "source": [
    "## DATA PREPROCESSING"
   ]
  },
  {
   "cell_type": "code",
   "execution_count": 1,
   "id": "347aea80",
   "metadata": {},
   "outputs": [],
   "source": [
    "import math\n",
    "import warnings\n",
    "import numpy as np # Linear algebra\n",
    "import pandas as pd # data processing\n",
    "import seaborn as sns \n",
    "import plotly.offline as py \n",
    "import plotly.graph_objs as go \n",
    "import matplotlib.pyplot as plt \n",
    "warnings.filterwarnings('ignore')"
   ]
  },
  {
   "cell_type": "code",
   "execution_count": 2,
   "id": "2b0a3e1e",
   "metadata": {
    "scrolled": true
   },
   "outputs": [],
   "source": [
    "Data_Set = pd.read_csv('GlobalTerrorism.csv')"
   ]
  },
  {
   "cell_type": "code",
   "execution_count": 3,
   "id": "69692cb4",
   "metadata": {},
   "outputs": [
    {
     "data": {
      "text/html": [
       "<div>\n",
       "<style scoped>\n",
       "    .dataframe tbody tr th:only-of-type {\n",
       "        vertical-align: middle;\n",
       "    }\n",
       "\n",
       "    .dataframe tbody tr th {\n",
       "        vertical-align: top;\n",
       "    }\n",
       "\n",
       "    .dataframe thead th {\n",
       "        text-align: right;\n",
       "    }\n",
       "</style>\n",
       "<table border=\"1\" class=\"dataframe\">\n",
       "  <thead>\n",
       "    <tr style=\"text-align: right;\">\n",
       "      <th></th>\n",
       "      <th>eventid</th>\n",
       "      <th>iyear</th>\n",
       "      <th>imonth</th>\n",
       "      <th>iday</th>\n",
       "      <th>approxdate</th>\n",
       "      <th>extended</th>\n",
       "      <th>resolution</th>\n",
       "      <th>country</th>\n",
       "      <th>country_txt</th>\n",
       "      <th>region</th>\n",
       "      <th>...</th>\n",
       "      <th>addnotes</th>\n",
       "      <th>scite1</th>\n",
       "      <th>scite2</th>\n",
       "      <th>scite3</th>\n",
       "      <th>dbsource</th>\n",
       "      <th>INT_LOG</th>\n",
       "      <th>INT_IDEO</th>\n",
       "      <th>INT_MISC</th>\n",
       "      <th>INT_ANY</th>\n",
       "      <th>related</th>\n",
       "    </tr>\n",
       "  </thead>\n",
       "  <tbody>\n",
       "    <tr>\n",
       "      <th>0</th>\n",
       "      <td>1.970000e+11</td>\n",
       "      <td>1970</td>\n",
       "      <td>7</td>\n",
       "      <td>2</td>\n",
       "      <td>NaN</td>\n",
       "      <td>0</td>\n",
       "      <td>NaN</td>\n",
       "      <td>58</td>\n",
       "      <td>Dominican Republic</td>\n",
       "      <td>2</td>\n",
       "      <td>...</td>\n",
       "      <td>NaN</td>\n",
       "      <td>NaN</td>\n",
       "      <td>NaN</td>\n",
       "      <td>NaN</td>\n",
       "      <td>PGIS</td>\n",
       "      <td>0</td>\n",
       "      <td>0</td>\n",
       "      <td>0</td>\n",
       "      <td>0</td>\n",
       "      <td>NaN</td>\n",
       "    </tr>\n",
       "    <tr>\n",
       "      <th>1</th>\n",
       "      <td>1.970000e+11</td>\n",
       "      <td>1970</td>\n",
       "      <td>0</td>\n",
       "      <td>0</td>\n",
       "      <td>NaN</td>\n",
       "      <td>0</td>\n",
       "      <td>NaN</td>\n",
       "      <td>130</td>\n",
       "      <td>Mexico</td>\n",
       "      <td>1</td>\n",
       "      <td>...</td>\n",
       "      <td>NaN</td>\n",
       "      <td>NaN</td>\n",
       "      <td>NaN</td>\n",
       "      <td>NaN</td>\n",
       "      <td>PGIS</td>\n",
       "      <td>0</td>\n",
       "      <td>1</td>\n",
       "      <td>1</td>\n",
       "      <td>1</td>\n",
       "      <td>NaN</td>\n",
       "    </tr>\n",
       "    <tr>\n",
       "      <th>2</th>\n",
       "      <td>1.970010e+11</td>\n",
       "      <td>1970</td>\n",
       "      <td>1</td>\n",
       "      <td>0</td>\n",
       "      <td>NaN</td>\n",
       "      <td>0</td>\n",
       "      <td>NaN</td>\n",
       "      <td>160</td>\n",
       "      <td>Philippines</td>\n",
       "      <td>5</td>\n",
       "      <td>...</td>\n",
       "      <td>NaN</td>\n",
       "      <td>NaN</td>\n",
       "      <td>NaN</td>\n",
       "      <td>NaN</td>\n",
       "      <td>PGIS</td>\n",
       "      <td>-9</td>\n",
       "      <td>-9</td>\n",
       "      <td>1</td>\n",
       "      <td>1</td>\n",
       "      <td>NaN</td>\n",
       "    </tr>\n",
       "    <tr>\n",
       "      <th>3</th>\n",
       "      <td>1.970010e+11</td>\n",
       "      <td>1970</td>\n",
       "      <td>1</td>\n",
       "      <td>0</td>\n",
       "      <td>NaN</td>\n",
       "      <td>0</td>\n",
       "      <td>NaN</td>\n",
       "      <td>78</td>\n",
       "      <td>Greece</td>\n",
       "      <td>8</td>\n",
       "      <td>...</td>\n",
       "      <td>NaN</td>\n",
       "      <td>NaN</td>\n",
       "      <td>NaN</td>\n",
       "      <td>NaN</td>\n",
       "      <td>PGIS</td>\n",
       "      <td>-9</td>\n",
       "      <td>-9</td>\n",
       "      <td>1</td>\n",
       "      <td>1</td>\n",
       "      <td>NaN</td>\n",
       "    </tr>\n",
       "    <tr>\n",
       "      <th>4</th>\n",
       "      <td>1.970010e+11</td>\n",
       "      <td>1970</td>\n",
       "      <td>1</td>\n",
       "      <td>0</td>\n",
       "      <td>NaN</td>\n",
       "      <td>0</td>\n",
       "      <td>NaN</td>\n",
       "      <td>101</td>\n",
       "      <td>Japan</td>\n",
       "      <td>4</td>\n",
       "      <td>...</td>\n",
       "      <td>NaN</td>\n",
       "      <td>NaN</td>\n",
       "      <td>NaN</td>\n",
       "      <td>NaN</td>\n",
       "      <td>PGIS</td>\n",
       "      <td>-9</td>\n",
       "      <td>-9</td>\n",
       "      <td>1</td>\n",
       "      <td>1</td>\n",
       "      <td>NaN</td>\n",
       "    </tr>\n",
       "  </tbody>\n",
       "</table>\n",
       "<p>5 rows × 135 columns</p>\n",
       "</div>"
      ],
      "text/plain": [
       "        eventid  iyear  imonth  iday approxdate  extended resolution  country  \\\n",
       "0  1.970000e+11   1970       7     2        NaN         0        NaN       58   \n",
       "1  1.970000e+11   1970       0     0        NaN         0        NaN      130   \n",
       "2  1.970010e+11   1970       1     0        NaN         0        NaN      160   \n",
       "3  1.970010e+11   1970       1     0        NaN         0        NaN       78   \n",
       "4  1.970010e+11   1970       1     0        NaN         0        NaN      101   \n",
       "\n",
       "          country_txt  region  ... addnotes scite1 scite2  scite3  dbsource  \\\n",
       "0  Dominican Republic       2  ...      NaN    NaN    NaN     NaN      PGIS   \n",
       "1              Mexico       1  ...      NaN    NaN    NaN     NaN      PGIS   \n",
       "2         Philippines       5  ...      NaN    NaN    NaN     NaN      PGIS   \n",
       "3              Greece       8  ...      NaN    NaN    NaN     NaN      PGIS   \n",
       "4               Japan       4  ...      NaN    NaN    NaN     NaN      PGIS   \n",
       "\n",
       "   INT_LOG  INT_IDEO INT_MISC INT_ANY  related  \n",
       "0        0         0        0       0      NaN  \n",
       "1        0         1        1       1      NaN  \n",
       "2       -9        -9        1       1      NaN  \n",
       "3       -9        -9        1       1      NaN  \n",
       "4       -9        -9        1       1      NaN  \n",
       "\n",
       "[5 rows x 135 columns]"
      ]
     },
     "execution_count": 3,
     "metadata": {},
     "output_type": "execute_result"
    }
   ],
   "source": [
    "#retrive first 5 records\n",
    "Data_Set.head()"
   ]
  },
  {
   "cell_type": "code",
   "execution_count": 4,
   "id": "6697a47b",
   "metadata": {},
   "outputs": [
    {
     "data": {
      "text/plain": [
       "Index(['eventid', 'iyear', 'imonth', 'iday', 'approxdate', 'extended',\n",
       "       'resolution', 'country', 'country_txt', 'region',\n",
       "       ...\n",
       "       'addnotes', 'scite1', 'scite2', 'scite3', 'dbsource', 'INT_LOG',\n",
       "       'INT_IDEO', 'INT_MISC', 'INT_ANY', 'related'],\n",
       "      dtype='object', length=135)"
      ]
     },
     "execution_count": 4,
     "metadata": {},
     "output_type": "execute_result"
    }
   ],
   "source": [
    "Data_Set.columns"
   ]
  },
  {
   "cell_type": "code",
   "execution_count": 5,
   "id": "7a011ea7",
   "metadata": {},
   "outputs": [],
   "source": [
    "# renaming columns for better understanding \n",
    "Data_Set.rename(columns= {'iyear':'Year', 'imonth':'Month', 'iday':'Day', 'country': 'Country_No','country_txt':'Country',\n",
    "                          'provstate':'State','region_txt':'Region','city':'City','latitude':'Latitude','longitude':'Longitude',\n",
    "                          'attacktype1_txt': 'Attack Type', 'target1': 'Target', 'nkill': 'Killed', 'nwound': 'Wounded', \n",
    "                          'summary':'Summary', 'gname': 'Group', 'targtype1_txt':'Target Type', 'weaptype1_txt':'Weapon Type', \n",
    "                          'motive': 'Motive'}, inplace=True)"
   ]
  },
  {
   "cell_type": "code",
   "execution_count": 6,
   "id": "141530a9",
   "metadata": {},
   "outputs": [
    {
     "data": {
      "text/plain": [
       "Index(['eventid', 'Year', 'Month', 'Day', 'approxdate', 'extended',\n",
       "       'resolution', 'Country_No', 'Country', 'region',\n",
       "       ...\n",
       "       'addnotes', 'scite1', 'scite2', 'scite3', 'dbsource', 'INT_LOG',\n",
       "       'INT_IDEO', 'INT_MISC', 'INT_ANY', 'related'],\n",
       "      dtype='object', length=135)"
      ]
     },
     "execution_count": 6,
     "metadata": {},
     "output_type": "execute_result"
    }
   ],
   "source": [
    "Data_Set.columns"
   ]
  },
  {
   "cell_type": "code",
   "execution_count": 7,
   "id": "b79b0811",
   "metadata": {},
   "outputs": [],
   "source": [
    "#selecting the desired and important columns from the data set \n",
    "Data_Set = Data_Set[['Year', 'Month', 'Day', 'Country', 'State', 'Region', 'City', 'Latitude', 'Longitude', 'Attack Type', 'Killed', \n",
    "                  'Wounded', 'Target', 'Summary', 'Group', 'Target Type', 'Weapon Type', 'Motive']]"
   ]
  },
  {
   "cell_type": "code",
   "execution_count": 8,
   "id": "7a0ab6ec",
   "metadata": {},
   "outputs": [
    {
     "data": {
      "text/html": [
       "<div>\n",
       "<style scoped>\n",
       "    .dataframe tbody tr th:only-of-type {\n",
       "        vertical-align: middle;\n",
       "    }\n",
       "\n",
       "    .dataframe tbody tr th {\n",
       "        vertical-align: top;\n",
       "    }\n",
       "\n",
       "    .dataframe thead th {\n",
       "        text-align: right;\n",
       "    }\n",
       "</style>\n",
       "<table border=\"1\" class=\"dataframe\">\n",
       "  <thead>\n",
       "    <tr style=\"text-align: right;\">\n",
       "      <th></th>\n",
       "      <th>Year</th>\n",
       "      <th>Month</th>\n",
       "      <th>Day</th>\n",
       "      <th>Country</th>\n",
       "      <th>State</th>\n",
       "      <th>Region</th>\n",
       "      <th>City</th>\n",
       "      <th>Latitude</th>\n",
       "      <th>Longitude</th>\n",
       "      <th>Attack Type</th>\n",
       "      <th>Killed</th>\n",
       "      <th>Wounded</th>\n",
       "      <th>Target</th>\n",
       "      <th>Summary</th>\n",
       "      <th>Group</th>\n",
       "      <th>Target Type</th>\n",
       "      <th>Weapon Type</th>\n",
       "      <th>Motive</th>\n",
       "    </tr>\n",
       "  </thead>\n",
       "  <tbody>\n",
       "    <tr>\n",
       "      <th>0</th>\n",
       "      <td>1970</td>\n",
       "      <td>7</td>\n",
       "      <td>2</td>\n",
       "      <td>Dominican Republic</td>\n",
       "      <td>NaN</td>\n",
       "      <td>Central America &amp; Caribbean</td>\n",
       "      <td>Santo Domingo</td>\n",
       "      <td>18.456792</td>\n",
       "      <td>-69.951164</td>\n",
       "      <td>Assassination</td>\n",
       "      <td>1.0</td>\n",
       "      <td>0.0</td>\n",
       "      <td>Julio Guzman</td>\n",
       "      <td>NaN</td>\n",
       "      <td>MANO-D</td>\n",
       "      <td>Private Citizens &amp; Property</td>\n",
       "      <td>Unknown</td>\n",
       "      <td>NaN</td>\n",
       "    </tr>\n",
       "    <tr>\n",
       "      <th>1</th>\n",
       "      <td>1970</td>\n",
       "      <td>0</td>\n",
       "      <td>0</td>\n",
       "      <td>Mexico</td>\n",
       "      <td>Federal</td>\n",
       "      <td>North America</td>\n",
       "      <td>Mexico city</td>\n",
       "      <td>19.371887</td>\n",
       "      <td>-99.086624</td>\n",
       "      <td>Hostage Taking (Kidnapping)</td>\n",
       "      <td>0.0</td>\n",
       "      <td>0.0</td>\n",
       "      <td>Nadine Chaval, daughter</td>\n",
       "      <td>NaN</td>\n",
       "      <td>23rd of September Communist League</td>\n",
       "      <td>Government (Diplomatic)</td>\n",
       "      <td>Unknown</td>\n",
       "      <td>NaN</td>\n",
       "    </tr>\n",
       "    <tr>\n",
       "      <th>2</th>\n",
       "      <td>1970</td>\n",
       "      <td>1</td>\n",
       "      <td>0</td>\n",
       "      <td>Philippines</td>\n",
       "      <td>Tarlac</td>\n",
       "      <td>Southeast Asia</td>\n",
       "      <td>Unknown</td>\n",
       "      <td>15.478598</td>\n",
       "      <td>120.599741</td>\n",
       "      <td>Assassination</td>\n",
       "      <td>1.0</td>\n",
       "      <td>0.0</td>\n",
       "      <td>Employee</td>\n",
       "      <td>NaN</td>\n",
       "      <td>Unknown</td>\n",
       "      <td>Journalists &amp; Media</td>\n",
       "      <td>Unknown</td>\n",
       "      <td>NaN</td>\n",
       "    </tr>\n",
       "    <tr>\n",
       "      <th>3</th>\n",
       "      <td>1970</td>\n",
       "      <td>1</td>\n",
       "      <td>0</td>\n",
       "      <td>Greece</td>\n",
       "      <td>Attica</td>\n",
       "      <td>Western Europe</td>\n",
       "      <td>Athens</td>\n",
       "      <td>37.997490</td>\n",
       "      <td>23.762728</td>\n",
       "      <td>Bombing/Explosion</td>\n",
       "      <td>NaN</td>\n",
       "      <td>NaN</td>\n",
       "      <td>U.S. Embassy</td>\n",
       "      <td>NaN</td>\n",
       "      <td>Unknown</td>\n",
       "      <td>Government (Diplomatic)</td>\n",
       "      <td>Explosives</td>\n",
       "      <td>NaN</td>\n",
       "    </tr>\n",
       "    <tr>\n",
       "      <th>4</th>\n",
       "      <td>1970</td>\n",
       "      <td>1</td>\n",
       "      <td>0</td>\n",
       "      <td>Japan</td>\n",
       "      <td>Fukouka</td>\n",
       "      <td>East Asia</td>\n",
       "      <td>Fukouka</td>\n",
       "      <td>33.580412</td>\n",
       "      <td>130.396361</td>\n",
       "      <td>Facility/Infrastructure Attack</td>\n",
       "      <td>NaN</td>\n",
       "      <td>NaN</td>\n",
       "      <td>U.S. Consulate</td>\n",
       "      <td>NaN</td>\n",
       "      <td>Unknown</td>\n",
       "      <td>Government (Diplomatic)</td>\n",
       "      <td>Incendiary</td>\n",
       "      <td>NaN</td>\n",
       "    </tr>\n",
       "  </tbody>\n",
       "</table>\n",
       "</div>"
      ],
      "text/plain": [
       "   Year  Month  Day             Country    State                       Region  \\\n",
       "0  1970      7    2  Dominican Republic      NaN  Central America & Caribbean   \n",
       "1  1970      0    0              Mexico  Federal                North America   \n",
       "2  1970      1    0         Philippines   Tarlac               Southeast Asia   \n",
       "3  1970      1    0              Greece   Attica               Western Europe   \n",
       "4  1970      1    0               Japan  Fukouka                    East Asia   \n",
       "\n",
       "            City   Latitude   Longitude                     Attack Type  \\\n",
       "0  Santo Domingo  18.456792  -69.951164                   Assassination   \n",
       "1    Mexico city  19.371887  -99.086624     Hostage Taking (Kidnapping)   \n",
       "2        Unknown  15.478598  120.599741                   Assassination   \n",
       "3         Athens  37.997490   23.762728               Bombing/Explosion   \n",
       "4        Fukouka  33.580412  130.396361  Facility/Infrastructure Attack   \n",
       "\n",
       "   Killed  Wounded                   Target Summary  \\\n",
       "0     1.0      0.0             Julio Guzman     NaN   \n",
       "1     0.0      0.0  Nadine Chaval, daughter     NaN   \n",
       "2     1.0      0.0                 Employee     NaN   \n",
       "3     NaN      NaN             U.S. Embassy     NaN   \n",
       "4     NaN      NaN           U.S. Consulate     NaN   \n",
       "\n",
       "                                Group                  Target Type  \\\n",
       "0                              MANO-D  Private Citizens & Property   \n",
       "1  23rd of September Communist League      Government (Diplomatic)   \n",
       "2                             Unknown          Journalists & Media   \n",
       "3                             Unknown      Government (Diplomatic)   \n",
       "4                             Unknown      Government (Diplomatic)   \n",
       "\n",
       "  Weapon Type Motive  \n",
       "0     Unknown    NaN  \n",
       "1     Unknown    NaN  \n",
       "2     Unknown    NaN  \n",
       "3  Explosives    NaN  \n",
       "4  Incendiary    NaN  "
      ]
     },
     "execution_count": 8,
     "metadata": {},
     "output_type": "execute_result"
    }
   ],
   "source": [
    "Data_Set.head()"
   ]
  },
  {
   "cell_type": "code",
   "execution_count": 9,
   "id": "caa9a034",
   "metadata": {},
   "outputs": [
    {
     "data": {
      "text/plain": [
       "Year                0\n",
       "Month               0\n",
       "Day                 0\n",
       "Country             0\n",
       "State             421\n",
       "Region              0\n",
       "City              434\n",
       "Latitude         4556\n",
       "Longitude        4557\n",
       "Attack Type         0\n",
       "Killed          10313\n",
       "Wounded         16311\n",
       "Target            636\n",
       "Summary         66129\n",
       "Group               0\n",
       "Target Type         0\n",
       "Weapon Type         0\n",
       "Motive         131130\n",
       "dtype: int64"
      ]
     },
     "execution_count": 9,
     "metadata": {},
     "output_type": "execute_result"
    }
   ],
   "source": [
    "Data_Set.isnull().sum()  #to check for null values"
   ]
  },
  {
   "cell_type": "code",
   "execution_count": 10,
   "id": "1a8f59a2",
   "metadata": {},
   "outputs": [
    {
     "name": "stdout",
     "output_type": "stream",
     "text": [
      "<class 'pandas.core.frame.DataFrame'>\n",
      "RangeIndex: 181691 entries, 0 to 181690\n",
      "Data columns (total 18 columns):\n",
      " #   Column       Non-Null Count   Dtype  \n",
      "---  ------       --------------   -----  \n",
      " 0   Year         181691 non-null  int64  \n",
      " 1   Month        181691 non-null  int64  \n",
      " 2   Day          181691 non-null  int64  \n",
      " 3   Country      181691 non-null  object \n",
      " 4   State        181270 non-null  object \n",
      " 5   Region       181691 non-null  object \n",
      " 6   City         181257 non-null  object \n",
      " 7   Latitude     177135 non-null  float64\n",
      " 8   Longitude    177134 non-null  float64\n",
      " 9   Attack Type  181691 non-null  object \n",
      " 10  Killed       171378 non-null  float64\n",
      " 11  Wounded      165380 non-null  float64\n",
      " 12  Target       181055 non-null  object \n",
      " 13  Summary      115562 non-null  object \n",
      " 14  Group        181691 non-null  object \n",
      " 15  Target Type  181691 non-null  object \n",
      " 16  Weapon Type  181691 non-null  object \n",
      " 17  Motive       50561 non-null   object \n",
      "dtypes: float64(4), int64(3), object(11)\n",
      "memory usage: 25.0+ MB\n"
     ]
    }
   ],
   "source": [
    "Data_Set.info()"
   ]
  },
  {
   "cell_type": "markdown",
   "id": "aafe1a3f",
   "metadata": {},
   "source": [
    "## UNDERSTANDING THE DATA"
   ]
  },
  {
   "cell_type": "code",
   "execution_count": 11,
   "id": "51b7cb4d",
   "metadata": {},
   "outputs": [
    {
     "name": "stdout",
     "output_type": "stream",
     "text": [
      "Country with the most attacks:  Iraq\n",
      "City with the most attacks:  Baghdad\n",
      "Region with the most attacks:  Middle East & North Africa\n",
      "Year with the most attacks:  2014\n",
      "Month with the most attacks:  5\n",
      "Group with the most attacks:  Taliban\n",
      "Most Attack Types:  Bombing/Explosion\n"
     ]
    }
   ],
   "source": [
    "print('Country with the most attacks: ', Data_Set['Country'].value_counts().idxmax())\n",
    "print('City with the most attacks: ', Data_Set['City'].value_counts().index[1]) \n",
    "print('Region with the most attacks: ', Data_Set['Region'].value_counts().idxmax())\n",
    "print('Year with the most attacks: ', Data_Set['Year'].value_counts().idxmax())\n",
    "print('Month with the most attacks: ', Data_Set['Month'].value_counts().idxmax())\n",
    "print('Group with the most attacks: ', Data_Set['Group'].value_counts().index[1])\n",
    "print('Most Attack Types: ', Data_Set['Attack Type'].value_counts().idxmax())"
   ]
  },
  {
   "cell_type": "code",
   "execution_count": 12,
   "id": "ed321c2e",
   "metadata": {},
   "outputs": [
    {
     "data": {
      "text/plain": [
       "1970     651\n",
       "1971     471\n",
       "1972     568\n",
       "1973     473\n",
       "1974     581\n",
       "1975     740\n",
       "1976     923\n",
       "1977    1319\n",
       "1978    1526\n",
       "1979    2662\n",
       "Name: Year, dtype: int64"
      ]
     },
     "execution_count": 12,
     "metadata": {},
     "output_type": "execute_result"
    }
   ],
   "source": [
    "Data_Set['Year'].value_counts(dropna = False).sort_index().head(10)"
   ]
  },
  {
   "cell_type": "markdown",
   "id": "b4c68637",
   "metadata": {},
   "source": [
    "## DATA VISUALISATION"
   ]
  },
  {
   "cell_type": "markdown",
   "id": "f84b0dfd",
   "metadata": {},
   "source": [
    "#### Number of Terrorist Activities Every Year"
   ]
  },
  {
   "cell_type": "code",
   "execution_count": 13,
   "id": "bbe64d59",
   "metadata": {},
   "outputs": [
    {
     "data": {
      "image/png": "[encoded data removed]",
      "text/plain": [
       "<Figure size 1296x720 with 1 Axes>"
      ]
     },
     "metadata": {
      "needs_background": "light"
     },
     "output_type": "display_data"
    }
   ],
   "source": [
    "year = Data_Set['Year'].unique()\n",
    "year_count = Data_Set['Year'].value_counts(dropna = False).sort_index()\n",
    "\n",
    "plt.figure(figsize = (18,10))\n",
    "\n",
    "sns.barplot(x = year, y = year_count, data = Data_Set, palette = 'rocket_r')\n",
    "plt.xticks(rotation = 45)\n",
    "plt.xlabel('Year of Attack')\n",
    "plt.ylabel('Number of Attacks')\n",
    "plt.title('Terrorist Attack Per Years')\n",
    "plt.show()"
   ]
  },
  {
   "cell_type": "markdown",
   "id": "a8ff906c",
   "metadata": {},
   "source": [
    "#### Understanding the Terrorist Activities by Region in Every Year"
   ]
  },
  {
   "cell_type": "markdown",
   "id": "7828cd47",
   "metadata": {},
   "source": [
    "#### 1.  (Area Plot)"
   ]
  },
  {
   "cell_type": "code",
   "execution_count": 14,
   "id": "ecb1c728",
   "metadata": {},
   "outputs": [
    {
     "data": {
      "image/png": "[encoded data removed]",
      "text/plain": [
       "<Figure size 1080x432 with 1 Axes>"
      ]
     },
     "metadata": {
      "needs_background": "light"
     },
     "output_type": "display_data"
    }
   ],
   "source": [
    "x = Data_Set['Year']\n",
    "y = Data_Set['Region']\n",
    "pd.crosstab(x,y).plot(kind='area', figsize=(15,6)) \n",
    "plt.title('Terrorist Activities by Region in each Year') \n",
    "plt.ylabel('Number of Attacks')\n",
    "plt.show()"
   ]
  },
  {
   "cell_type": "code",
   "execution_count": 15,
   "id": "cc7f9e53",
   "metadata": {},
   "outputs": [],
   "source": [
    "Data_Set['Wounded'] = Data_Set['Wounded'].fillna(0).astype(int)\n",
    "Data_Set['Killed'] = Data_Set['Killed'].fillna(0).astype(int)\n",
    "Data_Set['casualities'] = Data_Set['Killed'] + Data_Set['Wounded']"
   ]
  },
  {
   "cell_type": "markdown",
   "id": "9f621a14",
   "metadata": {},
   "source": [
    "#### 2. (Heat Map)"
   ]
  },
  {
   "cell_type": "markdown",
   "id": "63f9fa12",
   "metadata": {},
   "source": [
    "The top 50 worst terror attacks are selected as to keep the map simple and easy to visualize"
   ]
  },
  {
   "cell_type": "code",
   "execution_count": 16,
   "id": "9ac895f4",
   "metadata": {},
   "outputs": [],
   "source": [
    "Data_Set = Data_Set.sort_values(by='casualities', ascending=False)[:50]"
   ]
  },
  {
   "cell_type": "code",
   "execution_count": 17,
   "id": "0ff2fc78",
   "metadata": {},
   "outputs": [],
   "source": [
    "heat = Data_Set.pivot_table(index='Country',columns= 'Year', values='casualities')\n",
    "heat.fillna(0, inplace=True) "
   ]
  },
  {
   "cell_type": "code",
   "execution_count": 18,
   "id": "d751d2ed",
   "metadata": {},
   "outputs": [
    {
     "data": {
      "text/html": [
       "<div>\n",
       "<style scoped>\n",
       "    .dataframe tbody tr th:only-of-type {\n",
       "        vertical-align: middle;\n",
       "    }\n",
       "\n",
       "    .dataframe tbody tr th {\n",
       "        vertical-align: top;\n",
       "    }\n",
       "\n",
       "    .dataframe thead th {\n",
       "        text-align: right;\n",
       "    }\n",
       "</style>\n",
       "<table border=\"1\" class=\"dataframe\">\n",
       "  <thead>\n",
       "    <tr style=\"text-align: right;\">\n",
       "      <th>Year</th>\n",
       "      <th>1982</th>\n",
       "      <th>1984</th>\n",
       "      <th>1987</th>\n",
       "      <th>1992</th>\n",
       "      <th>1994</th>\n",
       "      <th>1995</th>\n",
       "      <th>1996</th>\n",
       "      <th>1997</th>\n",
       "      <th>1998</th>\n",
       "      <th>2001</th>\n",
       "      <th>...</th>\n",
       "      <th>2005</th>\n",
       "      <th>2006</th>\n",
       "      <th>2007</th>\n",
       "      <th>2008</th>\n",
       "      <th>2009</th>\n",
       "      <th>2013</th>\n",
       "      <th>2014</th>\n",
       "      <th>2015</th>\n",
       "      <th>2016</th>\n",
       "      <th>2017</th>\n",
       "    </tr>\n",
       "    <tr>\n",
       "      <th>Country</th>\n",
       "      <th></th>\n",
       "      <th></th>\n",
       "      <th></th>\n",
       "      <th></th>\n",
       "      <th></th>\n",
       "      <th></th>\n",
       "      <th></th>\n",
       "      <th></th>\n",
       "      <th></th>\n",
       "      <th></th>\n",
       "      <th></th>\n",
       "      <th></th>\n",
       "      <th></th>\n",
       "      <th></th>\n",
       "      <th></th>\n",
       "      <th></th>\n",
       "      <th></th>\n",
       "      <th></th>\n",
       "      <th></th>\n",
       "      <th></th>\n",
       "      <th></th>\n",
       "    </tr>\n",
       "  </thead>\n",
       "  <tbody>\n",
       "    <tr>\n",
       "      <th>Afghanistan</th>\n",
       "      <td>0.0</td>\n",
       "      <td>0.0</td>\n",
       "      <td>0.0</td>\n",
       "      <td>0.0</td>\n",
       "      <td>0.0</td>\n",
       "      <td>0.0</td>\n",
       "      <td>0.0</td>\n",
       "      <td>0.0</td>\n",
       "      <td>0.0</td>\n",
       "      <td>0.0</td>\n",
       "      <td>...</td>\n",
       "      <td>0.0</td>\n",
       "      <td>0.0</td>\n",
       "      <td>0.0</td>\n",
       "      <td>0.0</td>\n",
       "      <td>0.0</td>\n",
       "      <td>0.0</td>\n",
       "      <td>0.0</td>\n",
       "      <td>536.0</td>\n",
       "      <td>0.0</td>\n",
       "      <td>584.0</td>\n",
       "    </tr>\n",
       "    <tr>\n",
       "      <th>Algeria</th>\n",
       "      <td>0.0</td>\n",
       "      <td>0.0</td>\n",
       "      <td>0.0</td>\n",
       "      <td>0.0</td>\n",
       "      <td>0.0</td>\n",
       "      <td>0.0</td>\n",
       "      <td>0.0</td>\n",
       "      <td>450.0</td>\n",
       "      <td>0.0</td>\n",
       "      <td>0.0</td>\n",
       "      <td>...</td>\n",
       "      <td>0.0</td>\n",
       "      <td>0.0</td>\n",
       "      <td>0.0</td>\n",
       "      <td>0.0</td>\n",
       "      <td>0.0</td>\n",
       "      <td>0.0</td>\n",
       "      <td>0.0</td>\n",
       "      <td>0.0</td>\n",
       "      <td>0.0</td>\n",
       "      <td>0.0</td>\n",
       "    </tr>\n",
       "    <tr>\n",
       "      <th>Chad</th>\n",
       "      <td>0.0</td>\n",
       "      <td>0.0</td>\n",
       "      <td>0.0</td>\n",
       "      <td>0.0</td>\n",
       "      <td>0.0</td>\n",
       "      <td>0.0</td>\n",
       "      <td>0.0</td>\n",
       "      <td>0.0</td>\n",
       "      <td>0.0</td>\n",
       "      <td>0.0</td>\n",
       "      <td>...</td>\n",
       "      <td>0.0</td>\n",
       "      <td>0.0</td>\n",
       "      <td>0.0</td>\n",
       "      <td>1161.0</td>\n",
       "      <td>0.0</td>\n",
       "      <td>0.0</td>\n",
       "      <td>0.0</td>\n",
       "      <td>0.0</td>\n",
       "      <td>0.0</td>\n",
       "      <td>0.0</td>\n",
       "    </tr>\n",
       "    <tr>\n",
       "      <th>Egypt</th>\n",
       "      <td>0.0</td>\n",
       "      <td>0.0</td>\n",
       "      <td>0.0</td>\n",
       "      <td>0.0</td>\n",
       "      <td>0.0</td>\n",
       "      <td>0.0</td>\n",
       "      <td>0.0</td>\n",
       "      <td>0.0</td>\n",
       "      <td>0.0</td>\n",
       "      <td>0.0</td>\n",
       "      <td>...</td>\n",
       "      <td>0.0</td>\n",
       "      <td>0.0</td>\n",
       "      <td>0.0</td>\n",
       "      <td>0.0</td>\n",
       "      <td>0.0</td>\n",
       "      <td>0.0</td>\n",
       "      <td>0.0</td>\n",
       "      <td>0.0</td>\n",
       "      <td>0.0</td>\n",
       "      <td>438.0</td>\n",
       "    </tr>\n",
       "    <tr>\n",
       "      <th>Ethiopia</th>\n",
       "      <td>0.0</td>\n",
       "      <td>0.0</td>\n",
       "      <td>0.0</td>\n",
       "      <td>500.0</td>\n",
       "      <td>0.0</td>\n",
       "      <td>0.0</td>\n",
       "      <td>0.0</td>\n",
       "      <td>0.0</td>\n",
       "      <td>0.0</td>\n",
       "      <td>0.0</td>\n",
       "      <td>...</td>\n",
       "      <td>0.0</td>\n",
       "      <td>0.0</td>\n",
       "      <td>0.0</td>\n",
       "      <td>0.0</td>\n",
       "      <td>0.0</td>\n",
       "      <td>0.0</td>\n",
       "      <td>0.0</td>\n",
       "      <td>0.0</td>\n",
       "      <td>0.0</td>\n",
       "      <td>0.0</td>\n",
       "    </tr>\n",
       "  </tbody>\n",
       "</table>\n",
       "<p>5 rows × 21 columns</p>\n",
       "</div>"
      ],
      "text/plain": [
       "Year         1982  1984  1987   1992  1994  1995  1996   1997  1998  2001  \\\n",
       "Country                                                                     \n",
       "Afghanistan   0.0   0.0   0.0    0.0   0.0   0.0   0.0    0.0   0.0   0.0   \n",
       "Algeria       0.0   0.0   0.0    0.0   0.0   0.0   0.0  450.0   0.0   0.0   \n",
       "Chad          0.0   0.0   0.0    0.0   0.0   0.0   0.0    0.0   0.0   0.0   \n",
       "Egypt         0.0   0.0   0.0    0.0   0.0   0.0   0.0    0.0   0.0   0.0   \n",
       "Ethiopia      0.0   0.0   0.0  500.0   0.0   0.0   0.0    0.0   0.0   0.0   \n",
       "\n",
       "Year         ...  2005  2006  2007    2008  2009  2013  2014   2015  2016  \\\n",
       "Country      ...                                                            \n",
       "Afghanistan  ...   0.0   0.0   0.0     0.0   0.0   0.0   0.0  536.0   0.0   \n",
       "Algeria      ...   0.0   0.0   0.0     0.0   0.0   0.0   0.0    0.0   0.0   \n",
       "Chad         ...   0.0   0.0   0.0  1161.0   0.0   0.0   0.0    0.0   0.0   \n",
       "Egypt        ...   0.0   0.0   0.0     0.0   0.0   0.0   0.0    0.0   0.0   \n",
       "Ethiopia     ...   0.0   0.0   0.0     0.0   0.0   0.0   0.0    0.0   0.0   \n",
       "\n",
       "Year          2017  \n",
       "Country             \n",
       "Afghanistan  584.0  \n",
       "Algeria        0.0  \n",
       "Chad           0.0  \n",
       "Egypt        438.0  \n",
       "Ethiopia       0.0  \n",
       "\n",
       "[5 rows x 21 columns]"
      ]
     },
     "execution_count": 18,
     "metadata": {},
     "output_type": "execute_result"
    }
   ],
   "source": [
    "heat.head()"
   ]
  },
  {
   "cell_type": "code",
   "execution_count": 19,
   "id": "bd023cae",
   "metadata": {},
   "outputs": [
    {
     "data": {
      "text/html": [
       "        <script type=\"text/javascript\">\n",
       "        window.PlotlyConfig = {MathJaxConfig: 'local'};\n",
       "        if (window.MathJax) {MathJax.Hub.Config({SVG: {font: \"STIX-Web\"}});}\n",
       "        if (typeof require !== 'undefined') {\n",
       "        require.undef(\"plotly\");\n",
       "        requirejs.config({\n",
       "            paths: {\n",
       "                'plotly': ['https://cdn.plot.ly/plotly-2.9.0.min']\n",
       "            }\n",
       "        });\n",
       "        require(['plotly'], function(Plotly) {\n",
       "            window._Plotly = Plotly;\n",
       "        });\n",
       "        }\n",
       "        </script>\n",
       "        "
      ]
     },
     "metadata": {},
     "output_type": "display_data"
    },
    {
     "data": {
      "application/vnd.plotly.v1+json": {
       "config": {
        "linkText": "Export to plot.ly",
        "plotlyServerURL": "https://plot.ly",
        "showLink": false
       },
       "data": [
        {
         "colorscale": [
          [
           0,
           "#edf8fb"
          ],
          [
           0.3,
           "#00BFFF"
          ],
          [
           0.6,
           "#8856a7"
          ],
          [
           1,
           "#810f7c"
          ]
         ],
         "type": "heatmap",
         "x": [
          1982,
          1984,
          1987,
          1992,
          1994,
          1995,
          1996,
          1997,
          1998,
          2001,
          2004,
          2005,
          2006,
          2007,
          2008,
          2009,
          2013,
          2014,
          2015,
          2016,
          2017
         ],
         "y": [
          "Afghanistan",
          "Algeria",
          "Chad",
          "Egypt",
          "Ethiopia",
          "France",
          "India",
          "Iran",
          "Iraq",
          "Japan",
          "Kenya",
          "Libya",
          "Mozambique",
          "Nepal",
          "Pakistan",
          "Russia",
          "Rwanda",
          "Somalia",
          "South Sudan",
          "Spain",
          "Sri Lanka",
          "Syria",
          "Tajikistan",
          "United States"
         ],
         "z": [
          [
           0,
           0,
           0,
           0,
           0,
           0,
           0,
           0,
           0,
           0,
           0,
           0,
           0,
           0,
           0,
           0,
           0,
           0,
           536,
           0,
           584
          ],
          [
           0,
           0,
           0,
           0,
           0,
           0,
           0,
           450,
           0,
           0,
           0,
           0,
           0,
           0,
           0,
           0,
           0,
           0,
           0,
           0,
           0
          ],
          [
           0,
           0,
           0,
           0,
           0,
           0,
           0,
           0,
           0,
           0,
           0,
           0,
           0,
           0,
           1161,
           0,
           0,
           0,
           0,
           0,
           0
          ],
          [
           0,
           0,
           0,
           0,
           0,
           0,
           0,
           0,
           0,
           0,
           0,
           0,
           0,
           0,
           0,
           0,
           0,
           0,
           0,
           0,
           438
          ],
          [
           0,
           0,
           0,
           500,
           0,
           0,
           0,
           0,
           0,
           0,
           0,
           0,
           0,
           0,
           0,
           0,
           0,
           0,
           0,
           0,
           0
          ],
          [
           0,
           0,
           0,
           0,
           0,
           0,
           0,
           0,
           0,
           0,
           0,
           0,
           0,
           0,
           0,
           0,
           0,
           0,
           0,
           520,
           0
          ],
          [
           0,
           0,
           0,
           0,
           0,
           0,
           0,
           0,
           0,
           0,
           0,
           0,
           1005,
           0,
           0,
           0,
           0,
           0,
           0,
           0,
           0
          ],
          [
           760,
           0,
           0,
           0,
           0,
           0,
           0,
           0,
           0,
           0,
           0,
           0,
           0,
           0,
           0,
           0,
           0,
           0,
           0,
           0,
           0
          ],
          [
           0,
           0,
           0,
           0,
           0,
           0,
           0,
           0,
           0,
           0,
           0,
           702,
           462,
           833.3333333333334,
           0,
           509,
           0,
           1064.3333333333333,
           0,
           911.6666666666666,
           0
          ],
          [
           0,
           0,
           0,
           0,
           507,
           3092,
           0,
           0,
           0,
           0,
           0,
           0,
           0,
           0,
           0,
           0,
           0,
           0,
           0,
           0,
           0
          ],
          [
           0,
           0,
           0,
           0,
           0,
           0,
           0,
           0,
           4224,
           0,
           0,
           0,
           0,
           0,
           0,
           0,
           0,
           0,
           0,
           0,
           0
          ],
          [
           0,
           0,
           0,
           0,
           0,
           0,
           0,
           0,
           0,
           0,
           0,
           0,
           0,
           0,
           0,
           0,
           442,
           0,
           0,
           0,
           0
          ],
          [
           0,
           0,
           458,
           0,
           0,
           0,
           0,
           0,
           0,
           0,
           0,
           0,
           0,
           0,
           0,
           0,
           0,
           0,
           0,
           0,
           0
          ],
          [
           0,
           0,
           0,
           0,
           0,
           0,
           0,
           0,
           0,
           0,
           734,
           0,
           0,
           0,
           0,
           0,
           0,
           0,
           0,
           0,
           0
          ],
          [
           0,
           0,
           0,
           0,
           0,
           0,
           0,
           0,
           0,
           0,
           0,
           0,
           0,
           0,
           0,
           0,
           0,
           0,
           0,
           0,
           442
          ],
          [
           0,
           0,
           0,
           0,
           0,
           0,
           0,
           0,
           0,
           0,
           1071,
           0,
           0,
           0,
           0,
           0,
           0,
           0,
           0,
           0,
           0
          ],
          [
           0,
           0,
           0,
           0,
           1180,
           0,
           0,
           498,
           0,
           0,
           0,
           0,
           0,
           0,
           0,
           0,
           0,
           0,
           0,
           0,
           0
          ],
          [
           0,
           0,
           0,
           0,
           0,
           0,
           0,
           0,
           0,
           0,
           0,
           0,
           0,
           0,
           0,
           0,
           0,
           0,
           0,
           0,
           904
          ],
          [
           0,
           0,
           0,
           0,
           0,
           0,
           0,
           0,
           0,
           0,
           0,
           0,
           0,
           0,
           0,
           0,
           0,
           687,
           0,
           0,
           0
          ],
          [
           0,
           0,
           0,
           0,
           0,
           0,
           0,
           0,
           0,
           0,
           497.75,
           0,
           0,
           0,
           0,
           0,
           0,
           0,
           0,
           0,
           0
          ],
          [
           0,
           0,
           0,
           0,
           0,
           0,
           907,
           0,
           0,
           0,
           0,
           0,
           0,
           0,
           0,
           0,
           0,
           0,
           0,
           0,
           0
          ],
          [
           0,
           0,
           0,
           0,
           0,
           0,
           0,
           0,
           0,
           0,
           0,
           0,
           0,
           0,
           0,
           0,
           0,
           517,
           0,
           433,
           0
          ],
          [
           0,
           0,
           0,
           800,
           0,
           0,
           0,
           0,
           0,
           0,
           0,
           0,
           0,
           0,
           0,
           0,
           0,
           0,
           0,
           0,
           0
          ],
          [
           0,
           751,
           0,
           0,
           0,
           818,
           0,
           0,
           0,
           9574,
           0,
           0,
           0,
           0,
           0,
           0,
           0,
           0,
           0,
           0,
           910
          ]
         ]
        }
       ],
       "layout": {
        "template": {
         "data": {
          "bar": [
           {
            "error_x": {
             "color": "#2a3f5f"
            },
            "error_y": {
             "color": "#2a3f5f"
            },
            "marker": {
             "line": {
              "color": "#E5ECF6",
              "width": 0.5
             },
             "pattern": {
              "fillmode": "overlay",
              "size": 10,
              "solidity": 0.2
             }
            },
            "type": "bar"
           }
          ],
          "barpolar": [
           {
            "marker": {
             "line": {
              "color": "#E5ECF6",
              "width": 0.5
             },
             "pattern": {
              "fillmode": "overlay",
              "size": 10,
              "solidity": 0.2
             }
            },
            "type": "barpolar"
           }
          ],
          "carpet": [
           {
            "aaxis": {
             "endlinecolor": "#2a3f5f",
             "gridcolor": "white",
             "linecolor": "white",
             "minorgridcolor": "white",
             "startlinecolor": "#2a3f5f"
            },
            "baxis": {
             "endlinecolor": "#2a3f5f",
             "gridcolor": "white",
             "linecolor": "white",
             "minorgridcolor": "white",
             "startlinecolor": "#2a3f5f"
            },
            "type": "carpet"
           }
          ],
          "choropleth": [
           {
            "colorbar": {
             "outlinewidth": 0,
             "ticks": ""
            },
            "type": "choropleth"
           }
          ],
          "contour": [
           {
            "colorbar": {
             "outlinewidth": 0,
             "ticks": ""
            },
            "colorscale": [
             [
              0,
              "#0d0887"
             ],
             [
              0.1111111111111111,
              "#46039f"
             ],
             [
              0.2222222222222222,
              "#7201a8"
             ],
             [
              0.3333333333333333,
              "#9c179e"
             ],
             [
              0.4444444444444444,
              "#bd3786"
             ],
             [
              0.5555555555555556,
              "#d8576b"
             ],
             [
              0.6666666666666666,
              "#ed7953"
             ],
             [
              0.7777777777777778,
              "#fb9f3a"
             ],
             [
              0.8888888888888888,
              "#fdca26"
             ],
             [
              1,
              "#f0f921"
             ]
            ],
            "type": "contour"
           }
          ],
          "contourcarpet": [
           {
            "colorbar": {
             "outlinewidth": 0,
             "ticks": ""
            },
            "type": "contourcarpet"
           }
          ],
          "heatmap": [
           {
            "colorbar": {
             "outlinewidth": 0,
             "ticks": ""
            },
            "colorscale": [
             [
              0,
              "#0d0887"
             ],
             [
              0.1111111111111111,
              "#46039f"
             ],
             [
              0.2222222222222222,
              "#7201a8"
             ],
             [
              0.3333333333333333,
              "#9c179e"
             ],
             [
              0.4444444444444444,
              "#bd3786"
             ],
             [
              0.5555555555555556,
              "#d8576b"
             ],
             [
              0.6666666666666666,
              "#ed7953"
             ],
             [
              0.7777777777777778,
              "#fb9f3a"
             ],
             [
              0.8888888888888888,
              "#fdca26"
             ],
             [
              1,
              "#f0f921"
             ]
            ],
            "type": "heatmap"
           }
          ],
          "heatmapgl": [
           {
            "colorbar": {
             "outlinewidth": 0,
             "ticks": ""
            },
            "colorscale": [
             [
              0,
              "#0d0887"
             ],
             [
              0.1111111111111111,
              "#46039f"
             ],
             [
              0.2222222222222222,
              "#7201a8"
             ],
             [
              0.3333333333333333,
              "#9c179e"
             ],
             [
              0.4444444444444444,
              "#bd3786"
             ],
             [
              0.5555555555555556,
              "#d8576b"
             ],
             [
              0.6666666666666666,
              "#ed7953"
             ],
             [
              0.7777777777777778,
              "#fb9f3a"
             ],
             [
              0.8888888888888888,
              "#fdca26"
             ],
             [
              1,
              "#f0f921"
             ]
            ],
            "type": "heatmapgl"
           }
          ],
          "histogram": [
           {
            "marker": {
             "pattern": {
              "fillmode": "overlay",
              "size": 10,
              "solidity": 0.2
             }
            },
            "type": "histogram"
           }
          ],
          "histogram2d": [
           {
            "colorbar": {
             "outlinewidth": 0,
             "ticks": ""
            },
            "colorscale": [
             [
              0,
              "#0d0887"
             ],
             [
              0.1111111111111111,
              "#46039f"
             ],
             [
              0.2222222222222222,
              "#7201a8"
             ],
             [
              0.3333333333333333,
              "#9c179e"
             ],
             [
              0.4444444444444444,
              "#bd3786"
             ],
             [
              0.5555555555555556,
              "#d8576b"
             ],
             [
              0.6666666666666666,
              "#ed7953"
             ],
             [
              0.7777777777777778,
              "#fb9f3a"
             ],
             [
              0.8888888888888888,
              "#fdca26"
             ],
             [
              1,
              "#f0f921"
             ]
            ],
            "type": "histogram2d"
           }
          ],
          "histogram2dcontour": [
           {
            "colorbar": {
             "outlinewidth": 0,
             "ticks": ""
            },
            "colorscale": [
             [
              0,
              "#0d0887"
             ],
             [
              0.1111111111111111,
              "#46039f"
             ],
             [
              0.2222222222222222,
              "#7201a8"
             ],
             [
              0.3333333333333333,
              "#9c179e"
             ],
             [
              0.4444444444444444,
              "#bd3786"
             ],
             [
              0.5555555555555556,
              "#d8576b"
             ],
             [
              0.6666666666666666,
              "#ed7953"
             ],
             [
              0.7777777777777778,
              "#fb9f3a"
             ],
             [
              0.8888888888888888,
              "#fdca26"
             ],
             [
              1,
              "#f0f921"
             ]
            ],
            "type": "histogram2dcontour"
           }
          ],
          "mesh3d": [
           {
            "colorbar": {
             "outlinewidth": 0,
             "ticks": ""
            },
            "type": "mesh3d"
           }
          ],
          "parcoords": [
           {
            "line": {
             "colorbar": {
              "outlinewidth": 0,
              "ticks": ""
             }
            },
            "type": "parcoords"
           }
          ],
          "pie": [
           {
            "automargin": true,
            "type": "pie"
           }
          ],
          "scatter": [
           {
            "marker": {
             "colorbar": {
              "outlinewidth": 0,
              "ticks": ""
             }
            },
            "type": "scatter"
           }
          ],
          "scatter3d": [
           {
            "line": {
             "colorbar": {
              "outlinewidth": 0,
              "ticks": ""
             }
            },
            "marker": {
             "colorbar": {
              "outlinewidth": 0,
              "ticks": ""
             }
            },
            "type": "scatter3d"
           }
          ],
          "scattercarpet": [
           {
            "marker": {
             "colorbar": {
              "outlinewidth": 0,
              "ticks": ""
             }
            },
            "type": "scattercarpet"
           }
          ],
          "scattergeo": [
           {
            "marker": {
             "colorbar": {
              "outlinewidth": 0,
              "ticks": ""
             }
            },
            "type": "scattergeo"
           }
          ],
          "scattergl": [
           {
            "marker": {
             "colorbar": {
              "outlinewidth": 0,
              "ticks": ""
             }
            },
            "type": "scattergl"
           }
          ],
          "scattermapbox": [
           {
            "marker": {
             "colorbar": {
              "outlinewidth": 0,
              "ticks": ""
             }
            },
            "type": "scattermapbox"
           }
          ],
          "scatterpolar": [
           {
            "marker": {
             "colorbar": {
              "outlinewidth": 0,
              "ticks": ""
             }
            },
            "type": "scatterpolar"
           }
          ],
          "scatterpolargl": [
           {
            "marker": {
             "colorbar": {
              "outlinewidth": 0,
              "ticks": ""
             }
            },
            "type": "scatterpolargl"
           }
          ],
          "scatterternary": [
           {
            "marker": {
             "colorbar": {
              "outlinewidth": 0,
              "ticks": ""
             }
            },
            "type": "scatterternary"
           }
          ],
          "surface": [
           {
            "colorbar": {
             "outlinewidth": 0,
             "ticks": ""
            },
            "colorscale": [
             [
              0,
              "#0d0887"
             ],
             [
              0.1111111111111111,
              "#46039f"
             ],
             [
              0.2222222222222222,
              "#7201a8"
             ],
             [
              0.3333333333333333,
              "#9c179e"
             ],
             [
              0.4444444444444444,
              "#bd3786"
             ],
             [
              0.5555555555555556,
              "#d8576b"
             ],
             [
              0.6666666666666666,
              "#ed7953"
             ],
             [
              0.7777777777777778,
              "#fb9f3a"
             ],
             [
              0.8888888888888888,
              "#fdca26"
             ],
             [
              1,
              "#f0f921"
             ]
            ],
            "type": "surface"
           }
          ],
          "table": [
           {
            "cells": {
             "fill": {
              "color": "#EBF0F8"
             },
             "line": {
              "color": "white"
             }
            },
            "header": {
             "fill": {
              "color": "#C8D4E3"
             },
             "line": {
              "color": "white"
             }
            },
            "type": "table"
           }
          ]
         },
         "layout": {
          "annotationdefaults": {
           "arrowcolor": "#2a3f5f",
           "arrowhead": 0,
           "arrowwidth": 1
          },
          "autotypenumbers": "strict",
          "coloraxis": {
           "colorbar": {
            "outlinewidth": 0,
            "ticks": ""
           }
          },
          "colorscale": {
           "diverging": [
            [
             0,
             "#8e0152"
            ],
            [
             0.1,
             "#c51b7d"
            ],
            [
             0.2,
             "#de77ae"
            ],
            [
             0.3,
             "#f1b6da"
            ],
            [
             0.4,
             "#fde0ef"
            ],
            [
             0.5,
             "#f7f7f7"
            ],
            [
             0.6,
             "#e6f5d0"
            ],
            [
             0.7,
             "#b8e186"
            ],
            [
             0.8,
             "#7fbc41"
            ],
            [
             0.9,
             "#4d9221"
            ],
            [
             1,
             "#276419"
            ]
           ],
           "sequential": [
            [
             0,
             "#0d0887"
            ],
            [
             0.1111111111111111,
             "#46039f"
            ],
            [
             0.2222222222222222,
             "#7201a8"
            ],
            [
             0.3333333333333333,
             "#9c179e"
            ],
            [
             0.4444444444444444,
             "#bd3786"
            ],
            [
             0.5555555555555556,
             "#d8576b"
            ],
            [
             0.6666666666666666,
             "#ed7953"
            ],
            [
             0.7777777777777778,
             "#fb9f3a"
            ],
            [
             0.8888888888888888,
             "#fdca26"
            ],
            [
             1,
             "#f0f921"
            ]
           ],
           "sequentialminus": [
            [
             0,
             "#0d0887"
            ],
            [
             0.1111111111111111,
             "#46039f"
            ],
            [
             0.2222222222222222,
             "#7201a8"
            ],
            [
             0.3333333333333333,
             "#9c179e"
            ],
            [
             0.4444444444444444,
             "#bd3786"
            ],
            [
             0.5555555555555556,
             "#d8576b"
            ],
            [
             0.6666666666666666,
             "#ed7953"
            ],
            [
             0.7777777777777778,
             "#fb9f3a"
            ],
            [
             0.8888888888888888,
             "#fdca26"
            ],
            [
             1,
             "#f0f921"
            ]
           ]
          },
          "colorway": [
           "#636efa",
           "#EF553B",
           "#00cc96",
           "#ab63fa",
           "#FFA15A",
           "#19d3f3",
           "#FF6692",
           "#B6E880",
           "#FF97FF",
           "#FECB52"
          ],
          "font": {
           "color": "#2a3f5f"
          },
          "geo": {
           "bgcolor": "white",
           "lakecolor": "white",
           "landcolor": "#E5ECF6",
           "showlakes": true,
           "showland": true,
           "subunitcolor": "white"
          },
          "hoverlabel": {
           "align": "left"
          },
          "hovermode": "closest",
          "mapbox": {
           "style": "light"
          },
          "paper_bgcolor": "white",
          "plot_bgcolor": "#E5ECF6",
          "polar": {
           "angularaxis": {
            "gridcolor": "white",
            "linecolor": "white",
            "ticks": ""
           },
           "bgcolor": "#E5ECF6",
           "radialaxis": {
            "gridcolor": "white",
            "linecolor": "white",
            "ticks": ""
           }
          },
          "scene": {
           "xaxis": {
            "backgroundcolor": "#E5ECF6",
            "gridcolor": "white",
            "gridwidth": 2,
            "linecolor": "white",
            "showbackground": true,
            "ticks": "",
            "zerolinecolor": "white"
           },
           "yaxis": {
            "backgroundcolor": "#E5ECF6",
            "gridcolor": "white",
            "gridwidth": 2,
            "linecolor": "white",
            "showbackground": true,
            "ticks": "",
            "zerolinecolor": "white"
           },
           "zaxis": {
            "backgroundcolor": "#E5ECF6",
            "gridcolor": "white",
            "gridwidth": 2,
            "linecolor": "white",
            "showbackground": true,
            "ticks": "",
            "zerolinecolor": "white"
           }
          },
          "shapedefaults": {
           "line": {
            "color": "#2a3f5f"
           }
          },
          "ternary": {
           "aaxis": {
            "gridcolor": "white",
            "linecolor": "white",
            "ticks": ""
           },
           "baxis": {
            "gridcolor": "white",
            "linecolor": "white",
            "ticks": ""
           },
           "bgcolor": "#E5ECF6",
           "caxis": {
            "gridcolor": "white",
            "linecolor": "white",
            "ticks": ""
           }
          },
          "title": {
           "x": 0.05
          },
          "xaxis": {
           "automargin": true,
           "gridcolor": "white",
           "linecolor": "white",
           "ticks": "",
           "title": {
            "standoff": 15
           },
           "zerolinecolor": "white",
           "zerolinewidth": 2
          },
          "yaxis": {
           "automargin": true,
           "gridcolor": "white",
           "linecolor": "white",
           "ticks": "",
           "title": {
            "standoff": 15
           },
           "zerolinecolor": "white",
           "zerolinewidth": 2
          }
         }
        },
        "title": {
         "text": "Top 40 Worst Terror Attacks in History from 1982 to 2016"
        },
        "xaxis": {
         "nticks": 20,
         "ticks": ""
        },
        "yaxis": {
         "ticks": ""
        }
       }
      },
      "text/html": [
       "<div>                            <div id=\"0728eb30-89ea-446c-aaa5-228c415db703\" class=\"plotly-graph-div\" style=\"height:525px; width:100%;\"></div>            <script type=\"text/javascript\">                require([\"plotly\"], function(Plotly) {                    window.PLOTLYENV=window.PLOTLYENV || {};                                    if (document.getElementById(\"0728eb30-89ea-446c-aaa5-228c415db703\")) {                    Plotly.newPlot(                        \"0728eb30-89ea-446c-aaa5-228c415db703\",                        [{\"colorscale\":[[0,\"#edf8fb\"],[0.3,\"#00BFFF\"],[0.6,\"#8856a7\"],[1,\"#810f7c\"]],\"x\":[1982,1984,1987,1992,1994,1995,1996,1997,1998,2001,2004,2005,2006,2007,2008,2009,2013,2014,2015,2016,2017],\"y\":[\"Afghanistan\",\"Algeria\",\"Chad\",\"Egypt\",\"Ethiopia\",\"France\",\"India\",\"Iran\",\"Iraq\",\"Japan\",\"Kenya\",\"Libya\",\"Mozambique\",\"Nepal\",\"Pakistan\",\"Russia\",\"Rwanda\",\"Somalia\",\"South Sudan\",\"Spain\",\"Sri Lanka\",\"Syria\",\"Tajikistan\",\"United States\"],\"z\":[[0.0,0.0,0.0,0.0,0.0,0.0,0.0,0.0,0.0,0.0,0.0,0.0,0.0,0.0,0.0,0.0,0.0,0.0,536.0,0.0,584.0],[0.0,0.0,0.0,0.0,0.0,0.0,0.0,450.0,0.0,0.0,0.0,0.0,0.0,0.0,0.0,0.0,0.0,0.0,0.0,0.0,0.0],[0.0,0.0,0.0,0.0,0.0,0.0,0.0,0.0,0.0,0.0,0.0,0.0,0.0,0.0,1161.0,0.0,0.0,0.0,0.0,0.0,0.0],[0.0,0.0,0.0,0.0,0.0,0.0,0.0,0.0,0.0,0.0,0.0,0.0,0.0,0.0,0.0,0.0,0.0,0.0,0.0,0.0,438.0],[0.0,0.0,0.0,500.0,0.0,0.0,0.0,0.0,0.0,0.0,0.0,0.0,0.0,0.0,0.0,0.0,0.0,0.0,0.0,0.0,0.0],[0.0,0.0,0.0,0.0,0.0,0.0,0.0,0.0,0.0,0.0,0.0,0.0,0.0,0.0,0.0,0.0,0.0,0.0,0.0,520.0,0.0],[0.0,0.0,0.0,0.0,0.0,0.0,0.0,0.0,0.0,0.0,0.0,0.0,1005.0,0.0,0.0,0.0,0.0,0.0,0.0,0.0,0.0],[760.0,0.0,0.0,0.0,0.0,0.0,0.0,0.0,0.0,0.0,0.0,0.0,0.0,0.0,0.0,0.0,0.0,0.0,0.0,0.0,0.0],[0.0,0.0,0.0,0.0,0.0,0.0,0.0,0.0,0.0,0.0,0.0,702.0,462.0,833.3333333333334,0.0,509.0,0.0,1064.3333333333333,0.0,911.6666666666666,0.0],[0.0,0.0,0.0,0.0,507.0,3092.0,0.0,0.0,0.0,0.0,0.0,0.0,0.0,0.0,0.0,0.0,0.0,0.0,0.0,0.0,0.0],[0.0,0.0,0.0,0.0,0.0,0.0,0.0,0.0,4224.0,0.0,0.0,0.0,0.0,0.0,0.0,0.0,0.0,0.0,0.0,0.0,0.0],[0.0,0.0,0.0,0.0,0.0,0.0,0.0,0.0,0.0,0.0,0.0,0.0,0.0,0.0,0.0,0.0,442.0,0.0,0.0,0.0,0.0],[0.0,0.0,458.0,0.0,0.0,0.0,0.0,0.0,0.0,0.0,0.0,0.0,0.0,0.0,0.0,0.0,0.0,0.0,0.0,0.0,0.0],[0.0,0.0,0.0,0.0,0.0,0.0,0.0,0.0,0.0,0.0,734.0,0.0,0.0,0.0,0.0,0.0,0.0,0.0,0.0,0.0,0.0],[0.0,0.0,0.0,0.0,0.0,0.0,0.0,0.0,0.0,0.0,0.0,0.0,0.0,0.0,0.0,0.0,0.0,0.0,0.0,0.0,442.0],[0.0,0.0,0.0,0.0,0.0,0.0,0.0,0.0,0.0,0.0,1071.0,0.0,0.0,0.0,0.0,0.0,0.0,0.0,0.0,0.0,0.0],[0.0,0.0,0.0,0.0,1180.0,0.0,0.0,498.0,0.0,0.0,0.0,0.0,0.0,0.0,0.0,0.0,0.0,0.0,0.0,0.0,0.0],[0.0,0.0,0.0,0.0,0.0,0.0,0.0,0.0,0.0,0.0,0.0,0.0,0.0,0.0,0.0,0.0,0.0,0.0,0.0,0.0,904.0],[0.0,0.0,0.0,0.0,0.0,0.0,0.0,0.0,0.0,0.0,0.0,0.0,0.0,0.0,0.0,0.0,0.0,687.0,0.0,0.0,0.0],[0.0,0.0,0.0,0.0,0.0,0.0,0.0,0.0,0.0,0.0,497.75,0.0,0.0,0.0,0.0,0.0,0.0,0.0,0.0,0.0,0.0],[0.0,0.0,0.0,0.0,0.0,0.0,907.0,0.0,0.0,0.0,0.0,0.0,0.0,0.0,0.0,0.0,0.0,0.0,0.0,0.0,0.0],[0.0,0.0,0.0,0.0,0.0,0.0,0.0,0.0,0.0,0.0,0.0,0.0,0.0,0.0,0.0,0.0,0.0,517.0,0.0,433.0,0.0],[0.0,0.0,0.0,800.0,0.0,0.0,0.0,0.0,0.0,0.0,0.0,0.0,0.0,0.0,0.0,0.0,0.0,0.0,0.0,0.0,0.0],[0.0,751.0,0.0,0.0,0.0,818.0,0.0,0.0,0.0,9574.0,0.0,0.0,0.0,0.0,0.0,0.0,0.0,0.0,0.0,0.0,910.0]],\"type\":\"heatmap\"}],                        {\"template\":{\"data\":{\"barpolar\":[{\"marker\":{\"line\":{\"color\":\"#E5ECF6\",\"width\":0.5},\"pattern\":{\"fillmode\":\"overlay\",\"size\":10,\"solidity\":0.2}},\"type\":\"barpolar\"}],\"bar\":[{\"error_x\":{\"color\":\"#2a3f5f\"},\"error_y\":{\"color\":\"#2a3f5f\"},\"marker\":{\"line\":{\"color\":\"#E5ECF6\",\"width\":0.5},\"pattern\":{\"fillmode\":\"overlay\",\"size\":10,\"solidity\":0.2}},\"type\":\"bar\"}],\"carpet\":[{\"aaxis\":{\"endlinecolor\":\"#2a3f5f\",\"gridcolor\":\"white\",\"linecolor\":\"white\",\"minorgridcolor\":\"white\",\"startlinecolor\":\"#2a3f5f\"},\"baxis\":{\"endlinecolor\":\"#2a3f5f\",\"gridcolor\":\"white\",\"linecolor\":\"white\",\"minorgridcolor\":\"white\",\"startlinecolor\":\"#2a3f5f\"},\"type\":\"carpet\"}],\"choropleth\":[{\"colorbar\":{\"outlinewidth\":0,\"ticks\":\"\"},\"type\":\"choropleth\"}],\"contourcarpet\":[{\"colorbar\":{\"outlinewidth\":0,\"ticks\":\"\"},\"type\":\"contourcarpet\"}],\"contour\":[{\"colorbar\":{\"outlinewidth\":0,\"ticks\":\"\"},\"colorscale\":[[0.0,\"#0d0887\"],[0.1111111111111111,\"#46039f\"],[0.2222222222222222,\"#7201a8\"],[0.3333333333333333,\"#9c179e\"],[0.4444444444444444,\"#bd3786\"],[0.5555555555555556,\"#d8576b\"],[0.6666666666666666,\"#ed7953\"],[0.7777777777777778,\"#fb9f3a\"],[0.8888888888888888,\"#fdca26\"],[1.0,\"#f0f921\"]],\"type\":\"contour\"}],\"heatmapgl\":[{\"colorbar\":{\"outlinewidth\":0,\"ticks\":\"\"},\"colorscale\":[[0.0,\"#0d0887\"],[0.1111111111111111,\"#46039f\"],[0.2222222222222222,\"#7201a8\"],[0.3333333333333333,\"#9c179e\"],[0.4444444444444444,\"#bd3786\"],[0.5555555555555556,\"#d8576b\"],[0.6666666666666666,\"#ed7953\"],[0.7777777777777778,\"#fb9f3a\"],[0.8888888888888888,\"#fdca26\"],[1.0,\"#f0f921\"]],\"type\":\"heatmapgl\"}],\"heatmap\":[{\"colorbar\":{\"outlinewidth\":0,\"ticks\":\"\"},\"colorscale\":[[0.0,\"#0d0887\"],[0.1111111111111111,\"#46039f\"],[0.2222222222222222,\"#7201a8\"],[0.3333333333333333,\"#9c179e\"],[0.4444444444444444,\"#bd3786\"],[0.5555555555555556,\"#d8576b\"],[0.6666666666666666,\"#ed7953\"],[0.7777777777777778,\"#fb9f3a\"],[0.8888888888888888,\"#fdca26\"],[1.0,\"#f0f921\"]],\"type\":\"heatmap\"}],\"histogram2dcontour\":[{\"colorbar\":{\"outlinewidth\":0,\"ticks\":\"\"},\"colorscale\":[[0.0,\"#0d0887\"],[0.1111111111111111,\"#46039f\"],[0.2222222222222222,\"#7201a8\"],[0.3333333333333333,\"#9c179e\"],[0.4444444444444444,\"#bd3786\"],[0.5555555555555556,\"#d8576b\"],[0.6666666666666666,\"#ed7953\"],[0.7777777777777778,\"#fb9f3a\"],[0.8888888888888888,\"#fdca26\"],[1.0,\"#f0f921\"]],\"type\":\"histogram2dcontour\"}],\"histogram2d\":[{\"colorbar\":{\"outlinewidth\":0,\"ticks\":\"\"},\"colorscale\":[[0.0,\"#0d0887\"],[0.1111111111111111,\"#46039f\"],[0.2222222222222222,\"#7201a8\"],[0.3333333333333333,\"#9c179e\"],[0.4444444444444444,\"#bd3786\"],[0.5555555555555556,\"#d8576b\"],[0.6666666666666666,\"#ed7953\"],[0.7777777777777778,\"#fb9f3a\"],[0.8888888888888888,\"#fdca26\"],[1.0,\"#f0f921\"]],\"type\":\"histogram2d\"}],\"histogram\":[{\"marker\":{\"pattern\":{\"fillmode\":\"overlay\",\"size\":10,\"solidity\":0.2}},\"type\":\"histogram\"}],\"mesh3d\":[{\"colorbar\":{\"outlinewidth\":0,\"ticks\":\"\"},\"type\":\"mesh3d\"}],\"parcoords\":[{\"line\":{\"colorbar\":{\"outlinewidth\":0,\"ticks\":\"\"}},\"type\":\"parcoords\"}],\"pie\":[{\"automargin\":true,\"type\":\"pie\"}],\"scatter3d\":[{\"line\":{\"colorbar\":{\"outlinewidth\":0,\"ticks\":\"\"}},\"marker\":{\"colorbar\":{\"outlinewidth\":0,\"ticks\":\"\"}},\"type\":\"scatter3d\"}],\"scattercarpet\":[{\"marker\":{\"colorbar\":{\"outlinewidth\":0,\"ticks\":\"\"}},\"type\":\"scattercarpet\"}],\"scattergeo\":[{\"marker\":{\"colorbar\":{\"outlinewidth\":0,\"ticks\":\"\"}},\"type\":\"scattergeo\"}],\"scattergl\":[{\"marker\":{\"colorbar\":{\"outlinewidth\":0,\"ticks\":\"\"}},\"type\":\"scattergl\"}],\"scattermapbox\":[{\"marker\":{\"colorbar\":{\"outlinewidth\":0,\"ticks\":\"\"}},\"type\":\"scattermapbox\"}],\"scatterpolargl\":[{\"marker\":{\"colorbar\":{\"outlinewidth\":0,\"ticks\":\"\"}},\"type\":\"scatterpolargl\"}],\"scatterpolar\":[{\"marker\":{\"colorbar\":{\"outlinewidth\":0,\"ticks\":\"\"}},\"type\":\"scatterpolar\"}],\"scatter\":[{\"marker\":{\"colorbar\":{\"outlinewidth\":0,\"ticks\":\"\"}},\"type\":\"scatter\"}],\"scatterternary\":[{\"marker\":{\"colorbar\":{\"outlinewidth\":0,\"ticks\":\"\"}},\"type\":\"scatterternary\"}],\"surface\":[{\"colorbar\":{\"outlinewidth\":0,\"ticks\":\"\"},\"colorscale\":[[0.0,\"#0d0887\"],[0.1111111111111111,\"#46039f\"],[0.2222222222222222,\"#7201a8\"],[0.3333333333333333,\"#9c179e\"],[0.4444444444444444,\"#bd3786\"],[0.5555555555555556,\"#d8576b\"],[0.6666666666666666,\"#ed7953\"],[0.7777777777777778,\"#fb9f3a\"],[0.8888888888888888,\"#fdca26\"],[1.0,\"#f0f921\"]],\"type\":\"surface\"}],\"table\":[{\"cells\":{\"fill\":{\"color\":\"#EBF0F8\"},\"line\":{\"color\":\"white\"}},\"header\":{\"fill\":{\"color\":\"#C8D4E3\"},\"line\":{\"color\":\"white\"}},\"type\":\"table\"}]},\"layout\":{\"annotationdefaults\":{\"arrowcolor\":\"#2a3f5f\",\"arrowhead\":0,\"arrowwidth\":1},\"autotypenumbers\":\"strict\",\"coloraxis\":{\"colorbar\":{\"outlinewidth\":0,\"ticks\":\"\"}},\"colorscale\":{\"diverging\":[[0,\"#8e0152\"],[0.1,\"#c51b7d\"],[0.2,\"#de77ae\"],[0.3,\"#f1b6da\"],[0.4,\"#fde0ef\"],[0.5,\"#f7f7f7\"],[0.6,\"#e6f5d0\"],[0.7,\"#b8e186\"],[0.8,\"#7fbc41\"],[0.9,\"#4d9221\"],[1,\"#276419\"]],\"sequential\":[[0.0,\"#0d0887\"],[0.1111111111111111,\"#46039f\"],[0.2222222222222222,\"#7201a8\"],[0.3333333333333333,\"#9c179e\"],[0.4444444444444444,\"#bd3786\"],[0.5555555555555556,\"#d8576b\"],[0.6666666666666666,\"#ed7953\"],[0.7777777777777778,\"#fb9f3a\"],[0.8888888888888888,\"#fdca26\"],[1.0,\"#f0f921\"]],\"sequentialminus\":[[0.0,\"#0d0887\"],[0.1111111111111111,\"#46039f\"],[0.2222222222222222,\"#7201a8\"],[0.3333333333333333,\"#9c179e\"],[0.4444444444444444,\"#bd3786\"],[0.5555555555555556,\"#d8576b\"],[0.6666666666666666,\"#ed7953\"],[0.7777777777777778,\"#fb9f3a\"],[0.8888888888888888,\"#fdca26\"],[1.0,\"#f0f921\"]]},\"colorway\":[\"#636efa\",\"#EF553B\",\"#00cc96\",\"#ab63fa\",\"#FFA15A\",\"#19d3f3\",\"#FF6692\",\"#B6E880\",\"#FF97FF\",\"#FECB52\"],\"font\":{\"color\":\"#2a3f5f\"},\"geo\":{\"bgcolor\":\"white\",\"lakecolor\":\"white\",\"landcolor\":\"#E5ECF6\",\"showlakes\":true,\"showland\":true,\"subunitcolor\":\"white\"},\"hoverlabel\":{\"align\":\"left\"},\"hovermode\":\"closest\",\"mapbox\":{\"style\":\"light\"},\"paper_bgcolor\":\"white\",\"plot_bgcolor\":\"#E5ECF6\",\"polar\":{\"angularaxis\":{\"gridcolor\":\"white\",\"linecolor\":\"white\",\"ticks\":\"\"},\"bgcolor\":\"#E5ECF6\",\"radialaxis\":{\"gridcolor\":\"white\",\"linecolor\":\"white\",\"ticks\":\"\"}},\"scene\":{\"xaxis\":{\"backgroundcolor\":\"#E5ECF6\",\"gridcolor\":\"white\",\"gridwidth\":2,\"linecolor\":\"white\",\"showbackground\":true,\"ticks\":\"\",\"zerolinecolor\":\"white\"},\"yaxis\":{\"backgroundcolor\":\"#E5ECF6\",\"gridcolor\":\"white\",\"gridwidth\":2,\"linecolor\":\"white\",\"showbackground\":true,\"ticks\":\"\",\"zerolinecolor\":\"white\"},\"zaxis\":{\"backgroundcolor\":\"#E5ECF6\",\"gridcolor\":\"white\",\"gridwidth\":2,\"linecolor\":\"white\",\"showbackground\":true,\"ticks\":\"\",\"zerolinecolor\":\"white\"}},\"shapedefaults\":{\"line\":{\"color\":\"#2a3f5f\"}},\"ternary\":{\"aaxis\":{\"gridcolor\":\"white\",\"linecolor\":\"white\",\"ticks\":\"\"},\"baxis\":{\"gridcolor\":\"white\",\"linecolor\":\"white\",\"ticks\":\"\"},\"bgcolor\":\"#E5ECF6\",\"caxis\":{\"gridcolor\":\"white\",\"linecolor\":\"white\",\"ticks\":\"\"}},\"title\":{\"x\":0.05},\"xaxis\":{\"automargin\":true,\"gridcolor\":\"white\",\"linecolor\":\"white\",\"ticks\":\"\",\"title\":{\"standoff\":15},\"zerolinecolor\":\"white\",\"zerolinewidth\":2},\"yaxis\":{\"automargin\":true,\"gridcolor\":\"white\",\"linecolor\":\"white\",\"ticks\":\"\",\"title\":{\"standoff\":15},\"zerolinecolor\":\"white\",\"zerolinewidth\":2}}},\"title\":{\"text\":\"Top 40 Worst Terror Attacks in History from 1982 to 2016\"},\"xaxis\":{\"nticks\":20,\"ticks\":\"\"},\"yaxis\":{\"ticks\":\"\"}},                        {\"responsive\": true}                    ).then(function(){\n",
       "                            \n",
       "var gd = document.getElementById('0728eb30-89ea-446c-aaa5-228c415db703');\n",
       "var x = new MutationObserver(function (mutations, observer) {{\n",
       "        var display = window.getComputedStyle(gd).display;\n",
       "        if (!display || display === 'none') {{\n",
       "            console.log([gd, 'removed!']);\n",
       "            Plotly.purge(gd);\n",
       "            observer.disconnect();\n",
       "        }}\n",
       "}});\n",
       "\n",
       "// Listen for the removal of the full notebook cells\n",
       "var notebookContainer = gd.closest('#notebook-container');\n",
       "if (notebookContainer) {{\n",
       "    x.observe(notebookContainer, {childList: true});\n",
       "}}\n",
       "\n",
       "// Listen for the clearing of the current output cell\n",
       "var outputEl = gd.closest('.output');\n",
       "if (outputEl) {{\n",
       "    x.observe(outputEl, {childList: true});\n",
       "}}\n",
       "\n",
       "                        })                };                });            </script>        </div>"
      ]
     },
     "metadata": {},
     "output_type": "display_data"
    }
   ],
   "source": [
    "py.init_notebook_mode(connected=True)\n",
    "\n",
    "colorscale = [[0, '#edf8fb'], [.3, '#00BFFF'], [.6, '#8856a7' ], [1, '#810f7c']]\n",
    "heatmap = go.Heatmap(z = heat.values, x = heat.columns, y = heat.index, colorscale= colorscale)\n",
    "data = [heatmap]\n",
    "layout = go. Layout(\n",
    "    title='Top 40 Worst Terror Attacks in History from 1982 to 2016',\n",
    "    xaxis = dict(ticks='', nticks=20),\n",
    "    yaxis = dict(ticks=''))\n",
    "fig = go.Figure(data=data, layout=layout)\n",
    "py.iplot(fig, filename='heatmap', show_link=False)"
   ]
  },
  {
   "cell_type": "code",
   "execution_count": 20,
   "id": "87525c25",
   "metadata": {
    "scrolled": true
   },
   "outputs": [
    {
     "data": {
      "text/plain": [
       "Iraq             14\n",
       "United States     5\n",
       "Spain             4\n",
       "Japan             3\n",
       "Afghanistan       2\n",
       "Sri Lanka         2\n",
       "Rwanda            2\n",
       "Syria             2\n",
       "Libya             1\n",
       "Pakistan          1\n",
       "Algeria           1\n",
       "Mozambique        1\n",
       "Ethiopia          1\n",
       "France            1\n",
       "Nepal             1\n",
       "Name: Country, dtype: int64"
      ]
     },
     "execution_count": 20,
     "metadata": {},
     "output_type": "execute_result"
    }
   ],
   "source": [
    "Data_Set.Country.value_counts()[:15]"
   ]
  },
  {
   "cell_type": "markdown",
   "id": "7cf9326d",
   "metadata": {},
   "source": [
    "### Top Countries Affected by the Attacks"
   ]
  },
  {
   "cell_type": "markdown",
   "id": "e3a5efdd",
   "metadata": {},
   "source": [
    "#### 3. (Bar Graph)"
   ]
  },
  {
   "cell_type": "code",
   "execution_count": 21,
   "id": "0cb10dcb",
   "metadata": {},
   "outputs": [
    {
     "data": {
      "image/png": "[encoded data removed]",
      "text/plain": [
       "<Figure size 1080x432 with 1 Axes>"
      ]
     },
     "metadata": {
      "needs_background": "light"
     },
     "output_type": "display_data"
    }
   ],
   "source": [
    "plt.subplots(figsize=(15,6))\n",
    "sns.barplot(Data_Set['Country'].value_counts()[:15].index,Data_Set['Country'].value_counts()[:15].values, palette= 'Blues_r') \n",
    "plt.title('Top Countries Affected') \n",
    "plt.xlabel('Countries') \n",
    "plt.ylabel('Count')\n",
    "plt.xticks(rotation = 90)\n",
    "plt.show()"
   ]
  },
  {
   "cell_type": "markdown",
   "id": "64a66435",
   "metadata": {},
   "source": [
    "## ANALYSIS ON CUSTOMIZED DATA"
   ]
  },
  {
   "cell_type": "markdown",
   "id": "611dbfb2",
   "metadata": {},
   "source": [
    "Terrorist Attacks during a Particular Year and The Locations"
   ]
  },
  {
   "cell_type": "code",
   "execution_count": 22,
   "id": "d57e9a15",
   "metadata": {},
   "outputs": [],
   "source": [
    "import folium\n",
    "from folium.plugins import MarkerCluster"
   ]
  },
  {
   "cell_type": "code",
   "execution_count": 23,
   "id": "8410cbf1",
   "metadata": {},
   "outputs": [],
   "source": [
    "filterYear = Data_Set['Year'] == 1970"
   ]
  },
  {
   "cell_type": "code",
   "execution_count": 24,
   "id": "88d6f8d8",
   "metadata": {},
   "outputs": [],
   "source": [
    "Data = Data_Set[filterYear] # filter data\n",
    "\n",
    "FilteredData = Data.loc[:, 'City': 'Longitude'] #we are getting the required fields\n",
    "FilteredData = FilteredData.dropna() # drop NaN values in latitude and longitude\n",
    "FilteredData_List= FilteredData.values.tolist()"
   ]
  },
  {
   "cell_type": "code",
   "execution_count": 25,
   "id": "9d3568d3",
   "metadata": {},
   "outputs": [
    {
     "data": {
      "text/html": [
       "<div style=\"width:100%;\"><div style=\"position:relative;width:100%;height:0;padding-bottom:60%;\"><span style=\"color:#565656\">Make this Notebook Trusted to load map: File -> Trust Notebook</span><iframe srcdoc=\"&lt;!DOCTYPE html&gt;\n",
       "&lt;html&gt;\n",
       "&lt;head&gt;\n",
       "    \n",
       "    &lt;meta http-equiv=&quot;content-type&quot; content=&quot;text/html; charset=UTF-8&quot; /&gt;\n",
       "    \n",
       "        &lt;script&gt;\n",
       "            L_NO_TOUCH = false;\n",
       "            L_DISABLE_3D = false;\n",
       "        &lt;/script&gt;\n",
       "    \n",
       "    &lt;style&gt;html, body {width: 100%;height: 100%;margin: 0;padding: 0;}&lt;/style&gt;\n",
       "    &lt;style&gt;#map {position:absolute;top:0;bottom:0;right:0;left:0;}&lt;/style&gt;\n",
       "    &lt;script src=&quot;https://cdn.jsdelivr.net/npm/leaflet@1.9.3/dist/leaflet.js&quot;&gt;&lt;/script&gt;\n",
       "    &lt;script src=&quot;https://code.jquery.com/jquery-1.12.4.min.js&quot;&gt;&lt;/script&gt;\n",
       "    &lt;script src=&quot;https://cdn.jsdelivr.net/npm/bootstrap@5.2.2/dist/js/bootstrap.bundle.min.js&quot;&gt;&lt;/script&gt;\n",
       "    &lt;script src=&quot;https://cdnjs.cloudflare.com/ajax/libs/Leaflet.awesome-markers/2.0.2/leaflet.awesome-markers.js&quot;&gt;&lt;/script&gt;\n",
       "    &lt;link rel=&quot;stylesheet&quot; href=&quot;https://cdn.jsdelivr.net/npm/leaflet@1.9.3/dist/leaflet.css&quot;/&gt;\n",
       "    &lt;link rel=&quot;stylesheet&quot; href=&quot;https://cdn.jsdelivr.net/npm/bootstrap@5.2.2/dist/css/bootstrap.min.css&quot;/&gt;\n",
       "    &lt;link rel=&quot;stylesheet&quot; href=&quot;https://netdna.bootstrapcdn.com/bootstrap/3.0.0/css/bootstrap.min.css&quot;/&gt;\n",
       "    &lt;link rel=&quot;stylesheet&quot; href=&quot;https://cdn.jsdelivr.net/npm/@fortawesome/fontawesome-free@6.2.0/css/all.min.css&quot;/&gt;\n",
       "    &lt;link rel=&quot;stylesheet&quot; href=&quot;https://cdnjs.cloudflare.com/ajax/libs/Leaflet.awesome-markers/2.0.2/leaflet.awesome-markers.css&quot;/&gt;\n",
       "    &lt;link rel=&quot;stylesheet&quot; href=&quot;https://cdn.jsdelivr.net/gh/python-visualization/folium/folium/templates/leaflet.awesome.rotate.min.css&quot;/&gt;\n",
       "    \n",
       "            &lt;meta name=&quot;viewport&quot; content=&quot;width=device-width,\n",
       "                initial-scale=1.0, maximum-scale=1.0, user-scalable=no&quot; /&gt;\n",
       "            &lt;style&gt;\n",
       "                #map_0ba4998a6571f0061d4cae8aa343251c {\n",
       "                    position: relative;\n",
       "                    width: 100.0%;\n",
       "                    height: 100.0%;\n",
       "                    left: 0.0%;\n",
       "                    top: 0.0%;\n",
       "                }\n",
       "                .leaflet-container { font-size: 1rem; }\n",
       "            &lt;/style&gt;\n",
       "        \n",
       "    &lt;script src=&quot;https://cdnjs.cloudflare.com/ajax/libs/leaflet.markercluster/1.1.0/leaflet.markercluster.js&quot;&gt;&lt;/script&gt;\n",
       "    &lt;link rel=&quot;stylesheet&quot; href=&quot;https://cdnjs.cloudflare.com/ajax/libs/leaflet.markercluster/1.1.0/MarkerCluster.css&quot;/&gt;\n",
       "    &lt;link rel=&quot;stylesheet&quot; href=&quot;https://cdnjs.cloudflare.com/ajax/libs/leaflet.markercluster/1.1.0/MarkerCluster.Default.css&quot;/&gt;\n",
       "&lt;/head&gt;\n",
       "&lt;body&gt;\n",
       "    \n",
       "    \n",
       "            &lt;div class=&quot;folium-map&quot; id=&quot;map_0ba4998a6571f0061d4cae8aa343251c&quot; &gt;&lt;/div&gt;\n",
       "        \n",
       "&lt;/body&gt;\n",
       "&lt;script&gt;\n",
       "    \n",
       "    \n",
       "            var map_0ba4998a6571f0061d4cae8aa343251c = L.map(\n",
       "                &quot;map_0ba4998a6571f0061d4cae8aa343251c&quot;,\n",
       "                {\n",
       "                    center: [0.0, 30.0],\n",
       "                    crs: L.CRS.EPSG3857,\n",
       "                    zoom: 10,\n",
       "                    zoomControl: true,\n",
       "                    preferCanvas: false,\n",
       "                }\n",
       "            );\n",
       "\n",
       "            \n",
       "\n",
       "        \n",
       "    \n",
       "            var tile_layer_b4843db84d272fae0b7dbc0c78716f01 = L.tileLayer(\n",
       "                &quot;https://cartodb-basemaps-{s}.global.ssl.fastly.net/light_all/{z}/{x}/{y}.png&quot;,\n",
       "                {&quot;attribution&quot;: &quot;\\u0026copy; \\u003ca target=\\&quot;_blank\\&quot; href=\\&quot;http://www.openstreetmap.org/copyright\\&quot;\\u003eOpenStreetMap\\u003c/a\\u003e contributors \\u0026copy; \\u003ca target=\\&quot;_blank\\&quot; href=\\&quot;http://cartodb.com/attributions\\&quot;\\u003eCartoDB\\u003c/a\\u003e, CartoDB \\u003ca target=\\&quot;_blank\\&quot; href =\\&quot;http://cartodb.com/attributions\\&quot;\\u003eattributions\\u003c/a\\u003e&quot;, &quot;detectRetina&quot;: false, &quot;maxNativeZoom&quot;: 18, &quot;maxZoom&quot;: 18, &quot;minZoom&quot;: 0, &quot;noWrap&quot;: false, &quot;opacity&quot;: 1, &quot;subdomains&quot;: &quot;abc&quot;, &quot;tms&quot;: false}\n",
       "            ).addTo(map_0ba4998a6571f0061d4cae8aa343251c);\n",
       "        \n",
       "    \n",
       "            var marker_cluster_fe00a5de6ab674b538269da8c8380b13 = L.markerClusterGroup(\n",
       "                {}\n",
       "            );\n",
       "            map_0ba4998a6571f0061d4cae8aa343251c.addLayer(marker_cluster_fe00a5de6ab674b538269da8c8380b13);\n",
       "        \n",
       "&lt;/script&gt;\n",
       "&lt;/html&gt;\" style=\"position:absolute;width:100%;height:100%;left:0;top:0;border:none !important;\" allowfullscreen webkitallowfullscreen mozallowfullscreen></iframe></div></div>"
      ],
      "text/plain": [
       "<folium.folium.Map at 0x20d9d3894f0>"
      ]
     },
     "execution_count": 25,
     "metadata": {},
     "output_type": "execute_result"
    }
   ],
   "source": [
    "map = folium.Map(location = [0, 30], tiles= 'CartoDB positron', zoom_start = 10)\n",
    "\n",
    "markercluster = folium.plugins.MarkerCluster().add_to(map)\n",
    "for point in range(0, len(FilteredData_List)):\n",
    "    folium.Marker(location=[FilteredData_List[point][1],FilteredData_List[point][2]], \n",
    "                  popup = FilteredData_List[point][0]).add_to(markerCluster)\n",
    "map"
   ]
  },
  {
   "cell_type": "markdown",
   "id": "f4883016",
   "metadata": {},
   "source": [
    "In 1970, the American continent was the site of 84% of terrorist attacks.\n",
    "In 1970, the Middle East and North Africa, which are now hotspots for wars and terrorist attacks, experienced only one terrorist attack."
   ]
  },
  {
   "cell_type": "markdown",
   "id": "7e476604",
   "metadata": {},
   "source": [
    "Let us now investigate which terrorist organizations have carried out operations in each country. A value count would reveal the terrorist organizations responsible for the most attacks. We started at 1 to negate the value of 'Unknown.' "
   ]
  },
  {
   "cell_type": "code",
   "execution_count": 26,
   "id": "bc009135",
   "metadata": {},
   "outputs": [
    {
     "data": {
      "text/plain": [
       "Islamic State of Iraq and the Levant (ISIL)      7\n",
       "Unknown                                          7\n",
       "Islamic State of Iraq (ISI)                      3\n",
       "Al-Qaida in Iraq                                 3\n",
       "Liberation Tigers of Tamil Eelam (LTTE)          2\n",
       "Anti-Government extremists                       2\n",
       "Aum Shinri Kyo                                   2\n",
       "Khorasan Chapter of the Islamic State            2\n",
       "Hutu extremists                                  2\n",
       "Mozambique National Resistance Movement (MNR)    1\n",
       "Ethiopian People's Revolutionary Party           1\n",
       "Jihadi-inspired extremists                       1\n",
       "Taliban                                          1\n",
       "Kata'ib Hezbollah                                1\n",
       "Name: Group, dtype: int64"
      ]
     },
     "execution_count": 26,
     "metadata": {},
     "output_type": "execute_result"
    }
   ],
   "source": [
    "Data_Set.Group.value_counts()[1:15]"
   ]
  },
  {
   "cell_type": "code",
   "execution_count": 27,
   "id": "6a10a7d1",
   "metadata": {},
   "outputs": [],
   "source": [
    "Check = Data_Set[Data_Set.Group.isin(['Shining Path (SL)', 'Taliban', 'Islamic State of Iraq and the Levant (ISIL)'])]"
   ]
  },
  {
   "cell_type": "code",
   "execution_count": 28,
   "id": "fdf20a2b",
   "metadata": {},
   "outputs": [
    {
     "data": {
      "text/plain": [
       "array(['Iraq', 'Afghanistan', 'Syria'], dtype=object)"
      ]
     },
     "execution_count": 28,
     "metadata": {},
     "output_type": "execute_result"
    }
   ],
   "source": [
    "Check.Country.unique()"
   ]
  },
  {
   "cell_type": "code",
   "execution_count": 29,
   "id": "b4180edc",
   "metadata": {},
   "outputs": [],
   "source": [
    "Terror_Group = Data_Set.dropna(subset=['Latitude', 'Longitude'])"
   ]
  },
  {
   "cell_type": "code",
   "execution_count": 30,
   "id": "0e2d8287",
   "metadata": {},
   "outputs": [],
   "source": [
    "Terror_Group = Terror_Group.drop_duplicates(subset=['Country', 'Group'])"
   ]
  },
  {
   "cell_type": "code",
   "execution_count": 31,
   "id": "62403fd8",
   "metadata": {},
   "outputs": [
    {
     "name": "stdout",
     "output_type": "stream",
     "text": [
      "['Aum Shinri Kyo' 'Islamic State of Iraq and the Levant (ISIL)'\n",
      " 'Liberation Tigers of Tamil Eelam (LTTE)' 'Al-Qaida in Iraq'\n",
      " 'Anti-Government extremists' 'Unknown' 'Islamic State of Iraq (ISI)']\n"
     ]
    }
   ],
   "source": [
    "Terrorist_Groups = Data_Set.Group.value_counts()[1:8].index.tolist()\n",
    "Terror_Group = Terror_Group.loc[Terror_Group.Group.isin(Terrorist_Groups)]\n",
    "print(Terror_Group.Group.unique())"
   ]
  },
  {
   "cell_type": "code",
   "execution_count": 32,
   "id": "6442049b",
   "metadata": {},
   "outputs": [
    {
     "data": {
      "text/html": [
       "<div style=\"width:100%;\"><div style=\"position:relative;width:100%;height:0;padding-bottom:60%;\"><span style=\"color:#565656\">Make this Notebook Trusted to load map: File -> Trust Notebook</span><iframe srcdoc=\"&lt;!DOCTYPE html&gt;\n",
       "&lt;html&gt;\n",
       "&lt;head&gt;\n",
       "    \n",
       "    &lt;meta http-equiv=&quot;content-type&quot; content=&quot;text/html; charset=UTF-8&quot; /&gt;\n",
       "    \n",
       "        &lt;script&gt;\n",
       "            L_NO_TOUCH = false;\n",
       "            L_DISABLE_3D = false;\n",
       "        &lt;/script&gt;\n",
       "    \n",
       "    &lt;style&gt;html, body {width: 100%;height: 100%;margin: 0;padding: 0;}&lt;/style&gt;\n",
       "    &lt;style&gt;#map {position:absolute;top:0;bottom:0;right:0;left:0;}&lt;/style&gt;\n",
       "    &lt;script src=&quot;https://cdn.jsdelivr.net/npm/leaflet@1.9.3/dist/leaflet.js&quot;&gt;&lt;/script&gt;\n",
       "    &lt;script src=&quot;https://code.jquery.com/jquery-1.12.4.min.js&quot;&gt;&lt;/script&gt;\n",
       "    &lt;script src=&quot;https://cdn.jsdelivr.net/npm/bootstrap@5.2.2/dist/js/bootstrap.bundle.min.js&quot;&gt;&lt;/script&gt;\n",
       "    &lt;script src=&quot;https://cdnjs.cloudflare.com/ajax/libs/Leaflet.awesome-markers/2.0.2/leaflet.awesome-markers.js&quot;&gt;&lt;/script&gt;\n",
       "    &lt;link rel=&quot;stylesheet&quot; href=&quot;https://cdn.jsdelivr.net/npm/leaflet@1.9.3/dist/leaflet.css&quot;/&gt;\n",
       "    &lt;link rel=&quot;stylesheet&quot; href=&quot;https://cdn.jsdelivr.net/npm/bootstrap@5.2.2/dist/css/bootstrap.min.css&quot;/&gt;\n",
       "    &lt;link rel=&quot;stylesheet&quot; href=&quot;https://netdna.bootstrapcdn.com/bootstrap/3.0.0/css/bootstrap.min.css&quot;/&gt;\n",
       "    &lt;link rel=&quot;stylesheet&quot; href=&quot;https://cdn.jsdelivr.net/npm/@fortawesome/fontawesome-free@6.2.0/css/all.min.css&quot;/&gt;\n",
       "    &lt;link rel=&quot;stylesheet&quot; href=&quot;https://cdnjs.cloudflare.com/ajax/libs/Leaflet.awesome-markers/2.0.2/leaflet.awesome-markers.css&quot;/&gt;\n",
       "    &lt;link rel=&quot;stylesheet&quot; href=&quot;https://cdn.jsdelivr.net/gh/python-visualization/folium/folium/templates/leaflet.awesome.rotate.min.css&quot;/&gt;\n",
       "    \n",
       "            &lt;meta name=&quot;viewport&quot; content=&quot;width=device-width,\n",
       "                initial-scale=1.0, maximum-scale=1.0, user-scalable=no&quot; /&gt;\n",
       "            &lt;style&gt;\n",
       "                #map_960c3809c4c1f81a6ac9d40412447355 {\n",
       "                    position: relative;\n",
       "                    width: 100.0%;\n",
       "                    height: 100.0%;\n",
       "                    left: 0.0%;\n",
       "                    top: 0.0%;\n",
       "                }\n",
       "                .leaflet-container { font-size: 1rem; }\n",
       "            &lt;/style&gt;\n",
       "        \n",
       "    &lt;script src=&quot;https://cdnjs.cloudflare.com/ajax/libs/leaflet.markercluster/1.1.0/leaflet.markercluster.js&quot;&gt;&lt;/script&gt;\n",
       "    &lt;link rel=&quot;stylesheet&quot; href=&quot;https://cdnjs.cloudflare.com/ajax/libs/leaflet.markercluster/1.1.0/MarkerCluster.css&quot;/&gt;\n",
       "    &lt;link rel=&quot;stylesheet&quot; href=&quot;https://cdnjs.cloudflare.com/ajax/libs/leaflet.markercluster/1.1.0/MarkerCluster.Default.css&quot;/&gt;\n",
       "&lt;/head&gt;\n",
       "&lt;body&gt;\n",
       "    \n",
       "    \n",
       "            &lt;div class=&quot;folium-map&quot; id=&quot;map_960c3809c4c1f81a6ac9d40412447355&quot; &gt;&lt;/div&gt;\n",
       "        \n",
       "&lt;/body&gt;\n",
       "&lt;script&gt;\n",
       "    \n",
       "    \n",
       "            var map_960c3809c4c1f81a6ac9d40412447355 = L.map(\n",
       "                &quot;map_960c3809c4c1f81a6ac9d40412447355&quot;,\n",
       "                {\n",
       "                    center: [20.0, 0.0],\n",
       "                    crs: L.CRS.EPSG3857,\n",
       "                    zoom: 2,\n",
       "                    zoomControl: true,\n",
       "                    preferCanvas: false,\n",
       "                }\n",
       "            );\n",
       "\n",
       "            \n",
       "\n",
       "        \n",
       "    \n",
       "            var tile_layer_16c212eb38ca5902ea012452af2bc8d4 = L.tileLayer(\n",
       "                &quot;https://cartodb-basemaps-{s}.global.ssl.fastly.net/light_all/{z}/{x}/{y}.png&quot;,\n",
       "                {&quot;attribution&quot;: &quot;\\u0026copy; \\u003ca target=\\&quot;_blank\\&quot; href=\\&quot;http://www.openstreetmap.org/copyright\\&quot;\\u003eOpenStreetMap\\u003c/a\\u003e contributors \\u0026copy; \\u003ca target=\\&quot;_blank\\&quot; href=\\&quot;http://cartodb.com/attributions\\&quot;\\u003eCartoDB\\u003c/a\\u003e, CartoDB \\u003ca target=\\&quot;_blank\\&quot; href =\\&quot;http://cartodb.com/attributions\\&quot;\\u003eattributions\\u003c/a\\u003e&quot;, &quot;detectRetina&quot;: false, &quot;maxNativeZoom&quot;: 18, &quot;maxZoom&quot;: 18, &quot;minZoom&quot;: 0, &quot;noWrap&quot;: false, &quot;opacity&quot;: 1, &quot;subdomains&quot;: &quot;abc&quot;, &quot;tms&quot;: false}\n",
       "            ).addTo(map_960c3809c4c1f81a6ac9d40412447355);\n",
       "        \n",
       "    \n",
       "            var marker_cluster_7e38ecdd0872146a4ced6e4f5c857ff9 = L.markerClusterGroup(\n",
       "                {}\n",
       "            );\n",
       "            map_960c3809c4c1f81a6ac9d40412447355.addLayer(marker_cluster_7e38ecdd0872146a4ced6e4f5c857ff9);\n",
       "        \n",
       "    \n",
       "            var marker_843c7de100bb7025a7f9d9c03bef5e08 = L.marker(\n",
       "                [35.689125, 139.747742],\n",
       "                {}\n",
       "            ).addTo(map_960c3809c4c1f81a6ac9d40412447355);\n",
       "        \n",
       "    \n",
       "        var popup_04ecf7287f3b41044a3e0a9088414510 = L.popup({&quot;maxWidth&quot;: &quot;100%&quot;});\n",
       "\n",
       "        \n",
       "            \n",
       "                var html_b001a7fce93c8d869f26551619ba5e81 = $(`&lt;div id=&quot;html_b001a7fce93c8d869f26551619ba5e81&quot; style=&quot;width: 100.0%; height: 100.0%;&quot;&gt;Group:Aum Shinri Kyo&lt;br&gt;Country:Iraq&lt;/div&gt;`)[0];\n",
       "                popup_04ecf7287f3b41044a3e0a9088414510.setContent(html_b001a7fce93c8d869f26551619ba5e81);\n",
       "            \n",
       "        \n",
       "\n",
       "        marker_843c7de100bb7025a7f9d9c03bef5e08.bindPopup(popup_04ecf7287f3b41044a3e0a9088414510)\n",
       "        ;\n",
       "\n",
       "        \n",
       "    \n",
       "    \n",
       "            var marker_81f4317654d00cdb49e4655d33bb75c2 = L.marker(\n",
       "                [34.621521, 43.668377],\n",
       "                {}\n",
       "            ).addTo(map_960c3809c4c1f81a6ac9d40412447355);\n",
       "        \n",
       "    \n",
       "        var popup_dd2e682329ff4c9065f828010f9ad5ee = L.popup({&quot;maxWidth&quot;: &quot;100%&quot;});\n",
       "\n",
       "        \n",
       "            \n",
       "                var html_a14b6634c5eac35721614735a0b8ed84 = $(`&lt;div id=&quot;html_a14b6634c5eac35721614735a0b8ed84&quot; style=&quot;width: 100.0%; height: 100.0%;&quot;&gt;Group:Islamic State of Iraq and the Levant (ISIL)&lt;br&gt;Country:Iraq&lt;/div&gt;`)[0];\n",
       "                popup_dd2e682329ff4c9065f828010f9ad5ee.setContent(html_a14b6634c5eac35721614735a0b8ed84);\n",
       "            \n",
       "        \n",
       "\n",
       "        marker_81f4317654d00cdb49e4655d33bb75c2.bindPopup(popup_dd2e682329ff4c9065f828010f9ad5ee)\n",
       "        ;\n",
       "\n",
       "        \n",
       "    \n",
       "    \n",
       "            var marker_d2559c9e438edac8911aa82723b1889d = L.marker(\n",
       "                [6.941837, 79.861687],\n",
       "                {}\n",
       "            ).addTo(map_960c3809c4c1f81a6ac9d40412447355);\n",
       "        \n",
       "    \n",
       "        var popup_17b41aea71379b1649c2eeb40ed30bf2 = L.popup({&quot;maxWidth&quot;: &quot;100%&quot;});\n",
       "\n",
       "        \n",
       "            \n",
       "                var html_ee0029eaa611afbb961e0704c1811b65 = $(`&lt;div id=&quot;html_ee0029eaa611afbb961e0704c1811b65&quot; style=&quot;width: 100.0%; height: 100.0%;&quot;&gt;Group:Liberation Tigers of Tamil Eelam (LTTE)&lt;br&gt;Country:Iraq&lt;/div&gt;`)[0];\n",
       "                popup_17b41aea71379b1649c2eeb40ed30bf2.setContent(html_ee0029eaa611afbb961e0704c1811b65);\n",
       "            \n",
       "        \n",
       "\n",
       "        marker_d2559c9e438edac8911aa82723b1889d.bindPopup(popup_17b41aea71379b1649c2eeb40ed30bf2)\n",
       "        ;\n",
       "\n",
       "        \n",
       "    \n",
       "    \n",
       "            var marker_da2f47f31783be02198820a018c69fac = L.marker(\n",
       "                [36.183247, 41.591599],\n",
       "                {}\n",
       "            ).addTo(map_960c3809c4c1f81a6ac9d40412447355);\n",
       "        \n",
       "    \n",
       "        var popup_b5787229e1993077bf4ea19d7bc43b75 = L.popup({&quot;maxWidth&quot;: &quot;100%&quot;});\n",
       "\n",
       "        \n",
       "            \n",
       "                var html_5f5c157bce64ea0634866c7dbe30db0b = $(`&lt;div id=&quot;html_5f5c157bce64ea0634866c7dbe30db0b&quot; style=&quot;width: 100.0%; height: 100.0%;&quot;&gt;Group:Al-Qaida in Iraq&lt;br&gt;Country:Iraq&lt;/div&gt;`)[0];\n",
       "                popup_b5787229e1993077bf4ea19d7bc43b75.setContent(html_5f5c157bce64ea0634866c7dbe30db0b);\n",
       "            \n",
       "        \n",
       "\n",
       "        marker_da2f47f31783be02198820a018c69fac.bindPopup(popup_b5787229e1993077bf4ea19d7bc43b75)\n",
       "        ;\n",
       "\n",
       "        \n",
       "    \n",
       "    \n",
       "            var marker_52c9b2350788641698cfc51b5adaad5d = L.marker(\n",
       "                [36.082645, -115.135925],\n",
       "                {}\n",
       "            ).addTo(map_960c3809c4c1f81a6ac9d40412447355);\n",
       "        \n",
       "    \n",
       "        var popup_92d0fdcc56e136410281f2b9afa949af = L.popup({&quot;maxWidth&quot;: &quot;100%&quot;});\n",
       "\n",
       "        \n",
       "            \n",
       "                var html_0ccfe19e41eafe73ca385576cc71f223 = $(`&lt;div id=&quot;html_0ccfe19e41eafe73ca385576cc71f223&quot; style=&quot;width: 100.0%; height: 100.0%;&quot;&gt;Group:Anti-Government extremists&lt;br&gt;Country:Iraq&lt;/div&gt;`)[0];\n",
       "                popup_92d0fdcc56e136410281f2b9afa949af.setContent(html_0ccfe19e41eafe73ca385576cc71f223);\n",
       "            \n",
       "        \n",
       "\n",
       "        marker_52c9b2350788641698cfc51b5adaad5d.bindPopup(popup_92d0fdcc56e136410281f2b9afa949af)\n",
       "        ;\n",
       "\n",
       "        \n",
       "    \n",
       "    \n",
       "            var marker_fb8e60c5e738c1f2ed9d88372b5be5b3 = L.marker(\n",
       "                [28.291564, -16.62913],\n",
       "                {}\n",
       "            ).addTo(map_960c3809c4c1f81a6ac9d40412447355);\n",
       "        \n",
       "    \n",
       "        var popup_86be8cd49d2b4b0db645c67d51a67c46 = L.popup({&quot;maxWidth&quot;: &quot;100%&quot;});\n",
       "\n",
       "        \n",
       "            \n",
       "                var html_0638a182438e401b5c81ed86e6231663 = $(`&lt;div id=&quot;html_0638a182438e401b5c81ed86e6231663&quot; style=&quot;width: 100.0%; height: 100.0%;&quot;&gt;Group:Unknown&lt;br&gt;Country:Iraq&lt;/div&gt;`)[0];\n",
       "                popup_86be8cd49d2b4b0db645c67d51a67c46.setContent(html_0638a182438e401b5c81ed86e6231663);\n",
       "            \n",
       "        \n",
       "\n",
       "        marker_fb8e60c5e738c1f2ed9d88372b5be5b3.bindPopup(popup_86be8cd49d2b4b0db645c67d51a67c46)\n",
       "        ;\n",
       "\n",
       "        \n",
       "    \n",
       "    \n",
       "            var marker_31208a892785508b442047268fb9b1a0 = L.marker(\n",
       "                [35.724533, 51.40519],\n",
       "                {}\n",
       "            ).addTo(map_960c3809c4c1f81a6ac9d40412447355);\n",
       "        \n",
       "    \n",
       "        var popup_61d661607a2e7ca192f98e62e6b01a3a = L.popup({&quot;maxWidth&quot;: &quot;100%&quot;});\n",
       "\n",
       "        \n",
       "            \n",
       "                var html_27a799c84a07e1eac398b4ab0ef8c53d = $(`&lt;div id=&quot;html_27a799c84a07e1eac398b4ab0ef8c53d&quot; style=&quot;width: 100.0%; height: 100.0%;&quot;&gt;Group:Unknown&lt;br&gt;Country:Iraq&lt;/div&gt;`)[0];\n",
       "                popup_61d661607a2e7ca192f98e62e6b01a3a.setContent(html_27a799c84a07e1eac398b4ab0ef8c53d);\n",
       "            \n",
       "        \n",
       "\n",
       "        marker_31208a892785508b442047268fb9b1a0.bindPopup(popup_61d661607a2e7ca192f98e62e6b01a3a)\n",
       "        ;\n",
       "\n",
       "        \n",
       "    \n",
       "    \n",
       "            var marker_4a1542543d1ac7a8b2641347e10fbba2 = L.marker(\n",
       "                [35.443708, 139.638026],\n",
       "                {}\n",
       "            ).addTo(map_960c3809c4c1f81a6ac9d40412447355);\n",
       "        \n",
       "    \n",
       "        var popup_731f9b24fac854897368c43f0f57e6da = L.popup({&quot;maxWidth&quot;: &quot;100%&quot;});\n",
       "\n",
       "        \n",
       "            \n",
       "                var html_a4e6ee7c4f278b58e4842576af708485 = $(`&lt;div id=&quot;html_a4e6ee7c4f278b58e4842576af708485&quot; style=&quot;width: 100.0%; height: 100.0%;&quot;&gt;Group:Unknown&lt;br&gt;Country:Iraq&lt;/div&gt;`)[0];\n",
       "                popup_731f9b24fac854897368c43f0f57e6da.setContent(html_a4e6ee7c4f278b58e4842576af708485);\n",
       "            \n",
       "        \n",
       "\n",
       "        marker_4a1542543d1ac7a8b2641347e10fbba2.bindPopup(popup_731f9b24fac854897368c43f0f57e6da)\n",
       "        ;\n",
       "\n",
       "        \n",
       "    \n",
       "    \n",
       "            var marker_7625da04add3119eaca9b2c188db7e15 = L.marker(\n",
       "                [33.303566, 44.371773],\n",
       "                {}\n",
       "            ).addTo(map_960c3809c4c1f81a6ac9d40412447355);\n",
       "        \n",
       "    \n",
       "        var popup_8c83a2208cda9ac756916db936eb8a4f = L.popup({&quot;maxWidth&quot;: &quot;100%&quot;});\n",
       "\n",
       "        \n",
       "            \n",
       "                var html_39c63678767f0276cad160200c418a95 = $(`&lt;div id=&quot;html_39c63678767f0276cad160200c418a95&quot; style=&quot;width: 100.0%; height: 100.0%;&quot;&gt;Group:Islamic State of Iraq (ISI)&lt;br&gt;Country:Iraq&lt;/div&gt;`)[0];\n",
       "                popup_8c83a2208cda9ac756916db936eb8a4f.setContent(html_39c63678767f0276cad160200c418a95);\n",
       "            \n",
       "        \n",
       "\n",
       "        marker_7625da04add3119eaca9b2c188db7e15.bindPopup(popup_8c83a2208cda9ac756916db936eb8a4f)\n",
       "        ;\n",
       "\n",
       "        \n",
       "    \n",
       "    \n",
       "            var marker_46799894401e28b476bfcb5f960a6ecd = L.marker(\n",
       "                [35.959198, 38.998018],\n",
       "                {}\n",
       "            ).addTo(map_960c3809c4c1f81a6ac9d40412447355);\n",
       "        \n",
       "    \n",
       "        var popup_8bb2d31510c108ca48946f8b80d01766 = L.popup({&quot;maxWidth&quot;: &quot;100%&quot;});\n",
       "\n",
       "        \n",
       "            \n",
       "                var html_16303c4c0133bd5d544cdc242adfc1fb = $(`&lt;div id=&quot;html_16303c4c0133bd5d544cdc242adfc1fb&quot; style=&quot;width: 100.0%; height: 100.0%;&quot;&gt;Group:Islamic State of Iraq and the Levant (ISIL)&lt;br&gt;Country:Iraq&lt;/div&gt;`)[0];\n",
       "                popup_8bb2d31510c108ca48946f8b80d01766.setContent(html_16303c4c0133bd5d544cdc242adfc1fb);\n",
       "            \n",
       "        \n",
       "\n",
       "        marker_46799894401e28b476bfcb5f960a6ecd.bindPopup(popup_8bb2d31510c108ca48946f8b80d01766)\n",
       "        ;\n",
       "\n",
       "        \n",
       "    \n",
       "    \n",
       "            var marker_9185fce23e97cdc2a81fc67cfbf6d706 = L.marker(\n",
       "                [36.376823, 42.448875],\n",
       "                {}\n",
       "            ).addTo(map_960c3809c4c1f81a6ac9d40412447355);\n",
       "        \n",
       "    \n",
       "        var popup_a9050ed352e21c93cabe239d63f7da3b = L.popup({&quot;maxWidth&quot;: &quot;100%&quot;});\n",
       "\n",
       "        \n",
       "            \n",
       "                var html_c0d915bff6a5acf8bce005d5e2b94849 = $(`&lt;div id=&quot;html_c0d915bff6a5acf8bce005d5e2b94849&quot; style=&quot;width: 100.0%; height: 100.0%;&quot;&gt;Group:Unknown&lt;br&gt;Country:Iraq&lt;/div&gt;`)[0];\n",
       "                popup_a9050ed352e21c93cabe239d63f7da3b.setContent(html_c0d915bff6a5acf8bce005d5e2b94849);\n",
       "            \n",
       "        \n",
       "\n",
       "        marker_9185fce23e97cdc2a81fc67cfbf6d706.bindPopup(popup_a9050ed352e21c93cabe239d63f7da3b)\n",
       "        ;\n",
       "\n",
       "        \n",
       "    \n",
       "    \n",
       "            var marker_1e04c61a3dbe7d2ed1a0532d695ef5c4 = L.marker(\n",
       "                [36.612427, 3.124495],\n",
       "                {}\n",
       "            ).addTo(map_960c3809c4c1f81a6ac9d40412447355);\n",
       "        \n",
       "    \n",
       "        var popup_b6cd340eb754d6b6dbab9825832b6072 = L.popup({&quot;maxWidth&quot;: &quot;100%&quot;});\n",
       "\n",
       "        \n",
       "            \n",
       "                var html_9f560fd5e3da04b473dc58a92cf63ed8 = $(`&lt;div id=&quot;html_9f560fd5e3da04b473dc58a92cf63ed8&quot; style=&quot;width: 100.0%; height: 100.0%;&quot;&gt;Group:Unknown&lt;br&gt;Country:Iraq&lt;/div&gt;`)[0];\n",
       "                popup_b6cd340eb754d6b6dbab9825832b6072.setContent(html_9f560fd5e3da04b473dc58a92cf63ed8);\n",
       "            \n",
       "        \n",
       "\n",
       "        marker_1e04c61a3dbe7d2ed1a0532d695ef5c4.bindPopup(popup_b6cd340eb754d6b6dbab9825832b6072)\n",
       "        ;\n",
       "\n",
       "        \n",
       "    \n",
       "    \n",
       "            var marker_8fdfbde4e34005a379637c70482d8a43 = L.marker(\n",
       "                [32.867867, 13.189067],\n",
       "                {}\n",
       "            ).addTo(map_960c3809c4c1f81a6ac9d40412447355);\n",
       "        \n",
       "    \n",
       "        var popup_0f5b92645dcf2897c71c85508f697051 = L.popup({&quot;maxWidth&quot;: &quot;100%&quot;});\n",
       "\n",
       "        \n",
       "            \n",
       "                var html_cc02f00907efc4ea8df5d24c34995aa6 = $(`&lt;div id=&quot;html_cc02f00907efc4ea8df5d24c34995aa6&quot; style=&quot;width: 100.0%; height: 100.0%;&quot;&gt;Group:Unknown&lt;br&gt;Country:Iraq&lt;/div&gt;`)[0];\n",
       "                popup_0f5b92645dcf2897c71c85508f697051.setContent(html_cc02f00907efc4ea8df5d24c34995aa6);\n",
       "            \n",
       "        \n",
       "\n",
       "        marker_8fdfbde4e34005a379637c70482d8a43.bindPopup(popup_0f5b92645dcf2897c71c85508f697051)\n",
       "        ;\n",
       "\n",
       "        \n",
       "    \n",
       "&lt;/script&gt;\n",
       "&lt;/html&gt;\" style=\"position:absolute;width:100%;height:100%;left:0;top:0;border:none !important;\" allowfullscreen webkitallowfullscreen mozallowfullscreen></iframe></div></div>"
      ],
      "text/plain": [
       "<folium.folium.Map at 0x20d86301790>"
      ]
     },
     "execution_count": 32,
     "metadata": {},
     "output_type": "execute_result"
    }
   ],
   "source": [
    "map = folium.Map(location =[20, 0], tiles='CartoDB positron', zoom_start = 2)\n",
    "markerCluster = folium.plugins.MarkerCluster().add_to(map)\n",
    "for i in range(0, len(Terror_Group)):\n",
    "    folium.Marker([Terror_Group.iloc[i]['Latitude'], Terror_Group.iloc[i]['Longitude']], \n",
    "                  popup='Group:{}<br>Country:{}'.format(Terror_Group.iloc[i]['Group'], \n",
    "                  Terror_Group.iloc[1]['Country'])).add_to(map)\n",
    "map    "
   ]
  },
  {
   "cell_type": "markdown",
   "id": "637e5872",
   "metadata": {},
   "source": [
    "Even though it can be zoomed in to view the country in question, the above map appears untidy. As a result, in the following chart, I've used Folium's Marker Cluster to group these icons. As a result, it is both visually appealing and highly interactive."
   ]
  },
  {
   "cell_type": "code",
   "execution_count": 33,
   "id": "4f668398",
   "metadata": {},
   "outputs": [
    {
     "data": {
      "text/html": [
       "<div>\n",
       "<style scoped>\n",
       "    .dataframe tbody tr th:only-of-type {\n",
       "        vertical-align: middle;\n",
       "    }\n",
       "\n",
       "    .dataframe tbody tr th {\n",
       "        vertical-align: top;\n",
       "    }\n",
       "\n",
       "    .dataframe thead th {\n",
       "        text-align: right;\n",
       "    }\n",
       "</style>\n",
       "<table border=\"1\" class=\"dataframe\">\n",
       "  <thead>\n",
       "    <tr style=\"text-align: right;\">\n",
       "      <th></th>\n",
       "      <th>Year</th>\n",
       "      <th>Month</th>\n",
       "      <th>Day</th>\n",
       "      <th>Country</th>\n",
       "      <th>State</th>\n",
       "      <th>Region</th>\n",
       "      <th>City</th>\n",
       "      <th>Latitude</th>\n",
       "      <th>Longitude</th>\n",
       "      <th>Attack Type</th>\n",
       "      <th>Killed</th>\n",
       "      <th>Wounded</th>\n",
       "      <th>Target</th>\n",
       "      <th>Summary</th>\n",
       "      <th>Group</th>\n",
       "      <th>Target Type</th>\n",
       "      <th>Weapon Type</th>\n",
       "      <th>Motive</th>\n",
       "      <th>casualities</th>\n",
       "    </tr>\n",
       "  </thead>\n",
       "  <tbody>\n",
       "    <tr>\n",
       "      <th>73126</th>\n",
       "      <td>2001</td>\n",
       "      <td>9</td>\n",
       "      <td>11</td>\n",
       "      <td>United States</td>\n",
       "      <td>New York</td>\n",
       "      <td>North America</td>\n",
       "      <td>New York City</td>\n",
       "      <td>40.697132</td>\n",
       "      <td>-73.931351</td>\n",
       "      <td>Hijacking</td>\n",
       "      <td>1384</td>\n",
       "      <td>8190</td>\n",
       "      <td>Passengers and crew members on American Airlin...</td>\n",
       "      <td>09/11/2001: This was one of four related attac...</td>\n",
       "      <td>Al-Qaida</td>\n",
       "      <td>Private Citizens &amp; Property</td>\n",
       "      <td>Vehicle (not to include vehicle-borne explosiv...</td>\n",
       "      <td>Unknown</td>\n",
       "      <td>9574</td>\n",
       "    </tr>\n",
       "    <tr>\n",
       "      <th>73127</th>\n",
       "      <td>2001</td>\n",
       "      <td>9</td>\n",
       "      <td>11</td>\n",
       "      <td>United States</td>\n",
       "      <td>New York</td>\n",
       "      <td>North America</td>\n",
       "      <td>New York City</td>\n",
       "      <td>40.697132</td>\n",
       "      <td>-73.931351</td>\n",
       "      <td>Hijacking</td>\n",
       "      <td>1383</td>\n",
       "      <td>8191</td>\n",
       "      <td>Passengers and crew members on United Airlines...</td>\n",
       "      <td>09/11/2001: This was one of four related attac...</td>\n",
       "      <td>Al-Qaida</td>\n",
       "      <td>Private Citizens &amp; Property</td>\n",
       "      <td>Vehicle (not to include vehicle-borne explosiv...</td>\n",
       "      <td>Unknown</td>\n",
       "      <td>9574</td>\n",
       "    </tr>\n",
       "    <tr>\n",
       "      <th>58841</th>\n",
       "      <td>1995</td>\n",
       "      <td>3</td>\n",
       "      <td>20</td>\n",
       "      <td>Japan</td>\n",
       "      <td>Tokyo</td>\n",
       "      <td>East Asia</td>\n",
       "      <td>Tokyo</td>\n",
       "      <td>35.689125</td>\n",
       "      <td>139.747742</td>\n",
       "      <td>Unarmed Assault</td>\n",
       "      <td>13</td>\n",
       "      <td>5500</td>\n",
       "      <td>Subway system</td>\n",
       "      <td>NaN</td>\n",
       "      <td>Aum Shinri Kyo</td>\n",
       "      <td>Transportation</td>\n",
       "      <td>Chemical</td>\n",
       "      <td>NaN</td>\n",
       "      <td>5513</td>\n",
       "    </tr>\n",
       "    <tr>\n",
       "      <th>68071</th>\n",
       "      <td>1998</td>\n",
       "      <td>8</td>\n",
       "      <td>7</td>\n",
       "      <td>Kenya</td>\n",
       "      <td>Nairobi</td>\n",
       "      <td>Sub-Saharan Africa</td>\n",
       "      <td>Nairobi</td>\n",
       "      <td>-1.285180</td>\n",
       "      <td>36.821107</td>\n",
       "      <td>Bombing/Explosion</td>\n",
       "      <td>224</td>\n",
       "      <td>4000</td>\n",
       "      <td>United States Embassy in Nairobi, Kenya</td>\n",
       "      <td>08/07/1998: Suicide attackers detonated a vehi...</td>\n",
       "      <td>Al-Qaida</td>\n",
       "      <td>Government (Diplomatic)</td>\n",
       "      <td>Explosives</td>\n",
       "      <td>Unknown</td>\n",
       "      <td>4224</td>\n",
       "    </tr>\n",
       "    <tr>\n",
       "      <th>133518</th>\n",
       "      <td>2014</td>\n",
       "      <td>6</td>\n",
       "      <td>12</td>\n",
       "      <td>Iraq</td>\n",
       "      <td>Saladin</td>\n",
       "      <td>Middle East &amp; North Africa</td>\n",
       "      <td>Tikrit</td>\n",
       "      <td>34.621521</td>\n",
       "      <td>43.668377</td>\n",
       "      <td>Hostage Taking (Kidnapping)</td>\n",
       "      <td>1570</td>\n",
       "      <td>0</td>\n",
       "      <td>Soldiers</td>\n",
       "      <td>06/12/2014: Assailants abducted approximately ...</td>\n",
       "      <td>Islamic State of Iraq and the Levant (ISIL)</td>\n",
       "      <td>Military</td>\n",
       "      <td>Firearms</td>\n",
       "      <td>The Islamic State of Iraq and the Levant (ISIL...</td>\n",
       "      <td>1570</td>\n",
       "    </tr>\n",
       "  </tbody>\n",
       "</table>\n",
       "</div>"
      ],
      "text/plain": [
       "        Year  Month  Day        Country     State                      Region  \\\n",
       "73126   2001      9   11  United States  New York               North America   \n",
       "73127   2001      9   11  United States  New York               North America   \n",
       "58841   1995      3   20          Japan     Tokyo                   East Asia   \n",
       "68071   1998      8    7          Kenya   Nairobi          Sub-Saharan Africa   \n",
       "133518  2014      6   12           Iraq   Saladin  Middle East & North Africa   \n",
       "\n",
       "                 City   Latitude   Longitude                  Attack Type  \\\n",
       "73126   New York City  40.697132  -73.931351                    Hijacking   \n",
       "73127   New York City  40.697132  -73.931351                    Hijacking   \n",
       "58841           Tokyo  35.689125  139.747742              Unarmed Assault   \n",
       "68071         Nairobi  -1.285180   36.821107            Bombing/Explosion   \n",
       "133518         Tikrit  34.621521   43.668377  Hostage Taking (Kidnapping)   \n",
       "\n",
       "        Killed  Wounded                                             Target  \\\n",
       "73126     1384     8190  Passengers and crew members on American Airlin...   \n",
       "73127     1383     8191  Passengers and crew members on United Airlines...   \n",
       "58841       13     5500                                      Subway system   \n",
       "68071      224     4000            United States Embassy in Nairobi, Kenya   \n",
       "133518    1570        0                                           Soldiers   \n",
       "\n",
       "                                                  Summary  \\\n",
       "73126   09/11/2001: This was one of four related attac...   \n",
       "73127   09/11/2001: This was one of four related attac...   \n",
       "58841                                                 NaN   \n",
       "68071   08/07/1998: Suicide attackers detonated a vehi...   \n",
       "133518  06/12/2014: Assailants abducted approximately ...   \n",
       "\n",
       "                                              Group  \\\n",
       "73126                                      Al-Qaida   \n",
       "73127                                      Al-Qaida   \n",
       "58841                                Aum Shinri Kyo   \n",
       "68071                                      Al-Qaida   \n",
       "133518  Islamic State of Iraq and the Levant (ISIL)   \n",
       "\n",
       "                        Target Type  \\\n",
       "73126   Private Citizens & Property   \n",
       "73127   Private Citizens & Property   \n",
       "58841                Transportation   \n",
       "68071       Government (Diplomatic)   \n",
       "133518                     Military   \n",
       "\n",
       "                                              Weapon Type  \\\n",
       "73126   Vehicle (not to include vehicle-borne explosiv...   \n",
       "73127   Vehicle (not to include vehicle-borne explosiv...   \n",
       "58841                                            Chemical   \n",
       "68071                                          Explosives   \n",
       "133518                                           Firearms   \n",
       "\n",
       "                                                   Motive  casualities  \n",
       "73126                                             Unknown         9574  \n",
       "73127                                             Unknown         9574  \n",
       "58841                                                 NaN         5513  \n",
       "68071                                             Unknown         4224  \n",
       "133518  The Islamic State of Iraq and the Levant (ISIL...         1570  "
      ]
     },
     "execution_count": 33,
     "metadata": {},
     "output_type": "execute_result"
    }
   ],
   "source": [
    "Data_Set.head()"
   ]
  },
  {
   "cell_type": "code",
   "execution_count": 34,
   "id": "2e37efa5",
   "metadata": {},
   "outputs": [
    {
     "name": "stdout",
     "output_type": "stream",
     "text": [
      "Number of people killed in the attack:  14735\n"
     ]
    }
   ],
   "source": [
    "#Total number of people killed in the terror attacck\n",
    "set1 = Data_Set.loc[:,'Killed']\n",
    "print('Number of people killed in the attack: ', int(sum(set1.dropna()))) #drop Nan values and find the sum"
   ]
  },
  {
   "cell_type": "code",
   "execution_count": 35,
   "id": "0e45f17b",
   "metadata": {},
   "outputs": [],
   "source": [
    "set1_A = Data_Set.loc[:,'Attack Type']\n",
    "\n",
    "set1_Type = pd.concat([set1_A, set1], axis = 1) #No. of people killed in per attack"
   ]
  },
  {
   "cell_type": "code",
   "execution_count": 36,
   "id": "8cfcfcfc",
   "metadata": {},
   "outputs": [
    {
     "data": {
      "text/html": [
       "<div>\n",
       "<style scoped>\n",
       "    .dataframe tbody tr th:only-of-type {\n",
       "        vertical-align: middle;\n",
       "    }\n",
       "\n",
       "    .dataframe tbody tr th {\n",
       "        vertical-align: top;\n",
       "    }\n",
       "\n",
       "    .dataframe thead th {\n",
       "        text-align: right;\n",
       "    }\n",
       "</style>\n",
       "<table border=\"1\" class=\"dataframe\">\n",
       "  <thead>\n",
       "    <tr style=\"text-align: right;\">\n",
       "      <th></th>\n",
       "      <th>Attack Type</th>\n",
       "      <th>Killed</th>\n",
       "    </tr>\n",
       "  </thead>\n",
       "  <tbody>\n",
       "    <tr>\n",
       "      <th>73126</th>\n",
       "      <td>Hijacking</td>\n",
       "      <td>1384</td>\n",
       "    </tr>\n",
       "    <tr>\n",
       "      <th>73127</th>\n",
       "      <td>Hijacking</td>\n",
       "      <td>1383</td>\n",
       "    </tr>\n",
       "    <tr>\n",
       "      <th>58841</th>\n",
       "      <td>Unarmed Assault</td>\n",
       "      <td>13</td>\n",
       "    </tr>\n",
       "    <tr>\n",
       "      <th>68071</th>\n",
       "      <td>Bombing/Explosion</td>\n",
       "      <td>224</td>\n",
       "    </tr>\n",
       "    <tr>\n",
       "      <th>133518</th>\n",
       "      <td>Hostage Taking (Kidnapping)</td>\n",
       "      <td>1570</td>\n",
       "    </tr>\n",
       "  </tbody>\n",
       "</table>\n",
       "</div>"
      ],
      "text/plain": [
       "                        Attack Type  Killed\n",
       "73126                     Hijacking    1384\n",
       "73127                     Hijacking    1383\n",
       "58841               Unarmed Assault      13\n",
       "68071             Bombing/Explosion     224\n",
       "133518  Hostage Taking (Kidnapping)    1570"
      ]
     },
     "execution_count": 36,
     "metadata": {},
     "output_type": "execute_result"
    }
   ],
   "source": [
    "set1_Type.head()"
   ]
  },
  {
   "cell_type": "code",
   "execution_count": 37,
   "id": "b95fc796",
   "metadata": {},
   "outputs": [
    {
     "data": {
      "text/html": [
       "<div>\n",
       "<style scoped>\n",
       "    .dataframe tbody tr th:only-of-type {\n",
       "        vertical-align: middle;\n",
       "    }\n",
       "\n",
       "    .dataframe tbody tr th {\n",
       "        vertical-align: top;\n",
       "    }\n",
       "\n",
       "    .dataframe thead th {\n",
       "        text-align: right;\n",
       "    }\n",
       "</style>\n",
       "<table border=\"1\" class=\"dataframe\">\n",
       "  <thead>\n",
       "    <tr style=\"text-align: right;\">\n",
       "      <th>Attack Type</th>\n",
       "      <th>Armed Assault</th>\n",
       "      <th>Bombing/Explosion</th>\n",
       "      <th>Hijacking</th>\n",
       "      <th>Hostage Taking (Barricade Incident)</th>\n",
       "      <th>Hostage Taking (Kidnapping)</th>\n",
       "      <th>Unarmed Assault</th>\n",
       "    </tr>\n",
       "  </thead>\n",
       "  <tbody>\n",
       "    <tr>\n",
       "      <th>Killed</th>\n",
       "      <td>4071</td>\n",
       "      <td>3724</td>\n",
       "      <td>2767</td>\n",
       "      <td>344</td>\n",
       "      <td>3809</td>\n",
       "      <td>20</td>\n",
       "    </tr>\n",
       "  </tbody>\n",
       "</table>\n",
       "</div>"
      ],
      "text/plain": [
       "Attack Type  Armed Assault  Bombing/Explosion  Hijacking  \\\n",
       "Killed                4071               3724       2767   \n",
       "\n",
       "Attack Type  Hostage Taking (Barricade Incident)  Hostage Taking (Kidnapping)  \\\n",
       "Killed                                       344                         3809   \n",
       "\n",
       "Attack Type  Unarmed Assault  \n",
       "Killed                    20  "
      ]
     },
     "execution_count": 37,
     "metadata": {},
     "output_type": "execute_result"
    }
   ],
   "source": [
    "set1_Format = set1_Type.pivot_table(columns='Attack Type', values= 'Killed', aggfunc = 'sum')\n",
    "set1_Format"
   ]
  },
  {
   "cell_type": "code",
   "execution_count": 38,
   "id": "329c61fb",
   "metadata": {},
   "outputs": [
    {
     "name": "stdout",
     "output_type": "stream",
     "text": [
      "<class 'pandas.core.frame.DataFrame'>\n",
      "Index: 1 entries, Killed to Killed\n",
      "Data columns (total 6 columns):\n",
      " #   Column                               Non-Null Count  Dtype\n",
      "---  ------                               --------------  -----\n",
      " 0   Armed Assault                        1 non-null      int32\n",
      " 1   Bombing/Explosion                    1 non-null      int32\n",
      " 2   Hijacking                            1 non-null      int32\n",
      " 3   Hostage Taking (Barricade Incident)  1 non-null      int32\n",
      " 4   Hostage Taking (Kidnapping)          1 non-null      int32\n",
      " 5   Unarmed Assault                      1 non-null      int32\n",
      "dtypes: int32(6)\n",
      "memory usage: 140.0+ bytes\n"
     ]
    }
   ],
   "source": [
    "set1_Format.info()"
   ]
  },
  {
   "cell_type": "code",
   "execution_count": 39,
   "id": "46ed8d98",
   "metadata": {},
   "outputs": [
    {
     "data": {
      "text/html": [
       "<div>\n",
       "<style scoped>\n",
       "    .dataframe tbody tr th:only-of-type {\n",
       "        vertical-align: middle;\n",
       "    }\n",
       "\n",
       "    .dataframe tbody tr th {\n",
       "        vertical-align: top;\n",
       "    }\n",
       "\n",
       "    .dataframe thead th {\n",
       "        text-align: right;\n",
       "    }\n",
       "</style>\n",
       "<table border=\"1\" class=\"dataframe\">\n",
       "  <thead>\n",
       "    <tr style=\"text-align: right;\">\n",
       "      <th></th>\n",
       "      <th>Year</th>\n",
       "      <th>Month</th>\n",
       "      <th>Day</th>\n",
       "      <th>Country</th>\n",
       "      <th>State</th>\n",
       "      <th>Region</th>\n",
       "      <th>City</th>\n",
       "      <th>Latitude</th>\n",
       "      <th>Longitude</th>\n",
       "      <th>Attack Type</th>\n",
       "      <th>Killed</th>\n",
       "      <th>Wounded</th>\n",
       "      <th>Target</th>\n",
       "      <th>Summary</th>\n",
       "      <th>Group</th>\n",
       "      <th>Target Type</th>\n",
       "      <th>Weapon Type</th>\n",
       "      <th>Motive</th>\n",
       "      <th>casualities</th>\n",
       "    </tr>\n",
       "  </thead>\n",
       "  <tbody>\n",
       "    <tr>\n",
       "      <th>73126</th>\n",
       "      <td>2001</td>\n",
       "      <td>9</td>\n",
       "      <td>11</td>\n",
       "      <td>United States</td>\n",
       "      <td>New York</td>\n",
       "      <td>North America</td>\n",
       "      <td>New York City</td>\n",
       "      <td>40.697132</td>\n",
       "      <td>-73.931351</td>\n",
       "      <td>Hijacking</td>\n",
       "      <td>1384</td>\n",
       "      <td>8190</td>\n",
       "      <td>Passengers and crew members on American Airlin...</td>\n",
       "      <td>09/11/2001: This was one of four related attac...</td>\n",
       "      <td>Al-Qaida</td>\n",
       "      <td>Private Citizens &amp; Property</td>\n",
       "      <td>Vehicle (not to include vehicle-borne explosiv...</td>\n",
       "      <td>Unknown</td>\n",
       "      <td>9574</td>\n",
       "    </tr>\n",
       "    <tr>\n",
       "      <th>73127</th>\n",
       "      <td>2001</td>\n",
       "      <td>9</td>\n",
       "      <td>11</td>\n",
       "      <td>United States</td>\n",
       "      <td>New York</td>\n",
       "      <td>North America</td>\n",
       "      <td>New York City</td>\n",
       "      <td>40.697132</td>\n",
       "      <td>-73.931351</td>\n",
       "      <td>Hijacking</td>\n",
       "      <td>1383</td>\n",
       "      <td>8191</td>\n",
       "      <td>Passengers and crew members on United Airlines...</td>\n",
       "      <td>09/11/2001: This was one of four related attac...</td>\n",
       "      <td>Al-Qaida</td>\n",
       "      <td>Private Citizens &amp; Property</td>\n",
       "      <td>Vehicle (not to include vehicle-borne explosiv...</td>\n",
       "      <td>Unknown</td>\n",
       "      <td>9574</td>\n",
       "    </tr>\n",
       "  </tbody>\n",
       "</table>\n",
       "</div>"
      ],
      "text/plain": [
       "       Year  Month  Day        Country     State         Region  \\\n",
       "73126  2001      9   11  United States  New York  North America   \n",
       "73127  2001      9   11  United States  New York  North America   \n",
       "\n",
       "                City   Latitude  Longitude Attack Type  Killed  Wounded  \\\n",
       "73126  New York City  40.697132 -73.931351   Hijacking    1384     8190   \n",
       "73127  New York City  40.697132 -73.931351   Hijacking    1383     8191   \n",
       "\n",
       "                                                  Target  \\\n",
       "73126  Passengers and crew members on American Airlin...   \n",
       "73127  Passengers and crew members on United Airlines...   \n",
       "\n",
       "                                                 Summary     Group  \\\n",
       "73126  09/11/2001: This was one of four related attac...  Al-Qaida   \n",
       "73127  09/11/2001: This was one of four related attac...  Al-Qaida   \n",
       "\n",
       "                       Target Type  \\\n",
       "73126  Private Citizens & Property   \n",
       "73127  Private Citizens & Property   \n",
       "\n",
       "                                             Weapon Type   Motive  casualities  \n",
       "73126  Vehicle (not to include vehicle-borne explosiv...  Unknown         9574  \n",
       "73127  Vehicle (not to include vehicle-borne explosiv...  Unknown         9574  "
      ]
     },
     "execution_count": 39,
     "metadata": {},
     "output_type": "execute_result"
    }
   ],
   "source": [
    "Data_Set.head(2)"
   ]
  },
  {
   "cell_type": "code",
   "execution_count": 40,
   "id": "05ba696b",
   "metadata": {},
   "outputs": [],
   "source": [
    "#Number of People Killed in the Attack (Country-Wise)\n",
    "set2 = Data_Set.loc[:, 'Country']\n",
    "\n",
    "set2_A = pd.concat([set2, set1], axis=1) #No. of people killed in an attack in a country"
   ]
  },
  {
   "cell_type": "code",
   "execution_count": 41,
   "id": "a95a0f7e",
   "metadata": {
    "scrolled": true
   },
   "outputs": [
    {
     "data": {
      "text/html": [
       "<div>\n",
       "<style scoped>\n",
       "    .dataframe tbody tr th:only-of-type {\n",
       "        vertical-align: middle;\n",
       "    }\n",
       "\n",
       "    .dataframe tbody tr th {\n",
       "        vertical-align: top;\n",
       "    }\n",
       "\n",
       "    .dataframe thead th {\n",
       "        text-align: right;\n",
       "    }\n",
       "</style>\n",
       "<table border=\"1\" class=\"dataframe\">\n",
       "  <thead>\n",
       "    <tr style=\"text-align: right;\">\n",
       "      <th>Country</th>\n",
       "      <th>Afghanistan</th>\n",
       "      <th>Algeria</th>\n",
       "      <th>Chad</th>\n",
       "      <th>Egypt</th>\n",
       "      <th>Ethiopia</th>\n",
       "      <th>France</th>\n",
       "      <th>India</th>\n",
       "      <th>Iran</th>\n",
       "      <th>Iraq</th>\n",
       "      <th>Japan</th>\n",
       "      <th>...</th>\n",
       "      <th>Pakistan</th>\n",
       "      <th>Russia</th>\n",
       "      <th>Rwanda</th>\n",
       "      <th>Somalia</th>\n",
       "      <th>South Sudan</th>\n",
       "      <th>Spain</th>\n",
       "      <th>Sri Lanka</th>\n",
       "      <th>Syria</th>\n",
       "      <th>Tajikistan</th>\n",
       "      <th>United States</th>\n",
       "    </tr>\n",
       "  </thead>\n",
       "  <tbody>\n",
       "    <tr>\n",
       "      <th>Killed</th>\n",
       "      <td>333</td>\n",
       "      <td>256</td>\n",
       "      <td>160</td>\n",
       "      <td>311</td>\n",
       "      <td>200</td>\n",
       "      <td>87</td>\n",
       "      <td>188</td>\n",
       "      <td>60</td>\n",
       "      <td>4901</td>\n",
       "      <td>20</td>\n",
       "      <td>...</td>\n",
       "      <td>91</td>\n",
       "      <td>344</td>\n",
       "      <td>1451</td>\n",
       "      <td>588</td>\n",
       "      <td>287</td>\n",
       "      <td>191</td>\n",
       "      <td>151</td>\n",
       "      <td>950</td>\n",
       "      <td>0</td>\n",
       "      <td>2994</td>\n",
       "    </tr>\n",
       "  </tbody>\n",
       "</table>\n",
       "<p>1 rows × 24 columns</p>\n",
       "</div>"
      ],
      "text/plain": [
       "Country  Afghanistan  Algeria  Chad  Egypt  Ethiopia  France  India  Iran  \\\n",
       "Killed           333      256   160    311       200      87    188    60   \n",
       "\n",
       "Country  Iraq  Japan  ...  Pakistan  Russia  Rwanda  Somalia  South Sudan  \\\n",
       "Killed   4901     20  ...        91     344    1451      588          287   \n",
       "\n",
       "Country  Spain  Sri Lanka  Syria  Tajikistan  United States  \n",
       "Killed     191        151    950           0           2994  \n",
       "\n",
       "[1 rows x 24 columns]"
      ]
     },
     "execution_count": 41,
     "metadata": {},
     "output_type": "execute_result"
    }
   ],
   "source": [
    "set2_Format = set2_A.pivot_table(columns='Country', values= 'Killed', aggfunc = 'sum')\n",
    "set2_Format"
   ]
  },
  {
   "cell_type": "code",
   "execution_count": 42,
   "id": "a6055bab",
   "metadata": {},
   "outputs": [],
   "source": [
    "fig_size = plt.rcParams [\"figure.figsize\"]\n",
    "fig_size[0]=15\n",
    "fig_size[1]=5\n",
    "plt.rcParams [\"figure.figsize\"] = fig_size"
   ]
  },
  {
   "cell_type": "code",
   "execution_count": 43,
   "id": "13c178a1",
   "metadata": {
    "scrolled": false
   },
   "outputs": [
    {
     "data": {
      "image/png": "[encoded data removed]",
      "text/plain": [
       "<Figure size 1080x360 with 1 Axes>"
      ]
     },
     "metadata": {
      "needs_background": "light"
     },
     "output_type": "display_data"
    }
   ],
   "source": [
    "labels = set2_Format.columns.tolist()\n",
    "labels = labels[:]\n",
    "index = np.arange(len(labels))\n",
    "transpoze = set2_Format.T\n",
    "values = transpoze.values.tolist()\n",
    "values = values[:]\n",
    "values = [int(i[0]) for i in values]\n",
    "colors = ['red', 'green', 'blue', 'purple', 'yellow', 'brown', 'black', 'gray', 'magenta', 'orange']\n",
    "fig,ax = plt.subplots(1, 1)\n",
    "ax.yaxis.grid(True)\n",
    "fig_size = plt.rcParams[\"figure.figsize\"]\n",
    "fig_size[0]=15\n",
    "fig_size[1]=5\n",
    "plt.rcParams[\"figure.figsize\"] = fig_size\n",
    "plt.bar(index, values, color = colors, width = 0.9)\n",
    "plt.ylabel('Killed People', fontsize=15)\n",
    "plt.xlabel('Countries', fontsize = 15)\n",
    "plt.xticks (index, labels, fontsize= 10, rotation=90)\n",
    "plt.title('Number of people killed by countries', fontsize = 20)\n",
    "plt.show()"
   ]
  },
  {
   "cell_type": "markdown",
   "id": "0639c856",
   "metadata": {},
   "source": [
    "## CONCLUSION"
   ]
  },
  {
   "cell_type": "markdown",
   "id": "654f8381",
   "metadata": {},
   "source": [
    "#### There have been deadly outcomes associated with terrorist acts throughout the Middle East and northern Africa. Significant terrorist attacks are thought to have occurred in the Middle East and North Africa. Also, despite the misconception that Muslims support terrorism, Muslims are the group most negatively impacted by terrorist strikes. Iraq, Afghanistan, and Pakistan seem to have suffered the most damage from the graphics. These are all Muslim-majority nations."
   ]
  }
 ],
 "metadata": {
  "kernelspec": {
   "display_name": "Python 3 (ipykernel)",
   "language": "python",
   "name": "python3"
  },
  "language_info": {
   "codemirror_mode": {
    "name": "ipython",
    "version": 3
   },
   "file_extension": ".py",
   "mimetype": "text/x-python",
   "name": "python",
   "nbconvert_exporter": "python",
   "pygments_lexer": "ipython3",
   "version": "3.9.12"
  }
 },
 "nbformat": 4,
 "nbformat_minor": 5
}
